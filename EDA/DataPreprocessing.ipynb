{
 "cells": [
  {
   "cell_type": "markdown",
   "id": "03b4152f-7ab7-44b7-a729-1a8cb707ffe9",
   "metadata": {},
   "source": [
    "## Aspect, Sentiment만 남기기"
   ]
  },
  {
   "cell_type": "code",
   "execution_count": 3,
   "id": "ddc50949-034b-4974-8fce-bdf674ef389f",
   "metadata": {},
   "outputs": [],
   "source": [
    "import json\n",
    "import os\n",
    "\n",
    "def read_json_file(fp):\n",
    "    with open(fp, 'r', encoding='utf-8') as f:\n",
    "        data = json.load(f)\n",
    "    return data\n",
    "\n",
    "def load_json_files(dir):\n",
    "    json_data_list = []\n",
    "\n",
    "    for filename in os.listdir(dir):\n",
    "        if filename.endswith('.json'):\n",
    "            fp = os.path.join(dir, filename)\n",
    "            json_data = read_json_file(fp)\n",
    "            json_data_list.extend(json_data)\n",
    "    \n",
    "    return json_data_list\n",
    "\n",
    "files_path = './absa_data/labeling_data'\n",
    "\n",
    "all_json_data = load_json_files(files_path)"
   ]
  },
  {
   "cell_type": "code",
   "execution_count": 4,
   "id": "e3253416-1522-44fd-be32-133abd50ec8b",
   "metadata": {
    "scrolled": true
   },
   "outputs": [
    {
     "data": {
      "text/plain": [
       "49996"
      ]
     },
     "execution_count": 4,
     "metadata": {},
     "output_type": "execute_result"
    }
   ],
   "source": [
    "len(all_json_data)"
   ]
  },
  {
   "cell_type": "code",
   "execution_count": null,
   "id": "10a683d3-6427-47d6-ae37-5cf90ad598e3",
   "metadata": {
    "scrolled": true
   },
   "outputs": [],
   "source": [
    "all_json_data[0]"
   ]
  },
  {
   "cell_type": "code",
   "execution_count": null,
   "id": "e79b1b51-8a12-4ea1-8216-3637b5919d8f",
   "metadata": {},
   "outputs": [],
   "source": [
    "filtered_data = [item for item in all_json_data if item.get('MainCategory') == '스킨케어']\n",
    "filtered_data"
   ]
  },
  {
   "cell_type": "code",
   "execution_count": 33,
   "id": "5a892c52-1bad-4f08-92ce-052f1adb6902",
   "metadata": {},
   "outputs": [],
   "source": [
    "extended_data_list = []\n",
    "\n",
    "for item in filtered_data:\n",
    "    aspects_list = item.get('Aspects', [])\n",
    "    for aspect in aspects_list:\n",
    "        new_item = aspect.copy()\n",
    "        new_item.update({'MainCategory': item['MainCategory']})\n",
    "        extended_data_list.append(new_item)"
   ]
  },
  {
   "cell_type": "code",
   "execution_count": null,
   "id": "4ba5fd0d-f597-4f23-b0e2-62461f86c95c",
   "metadata": {},
   "outputs": [],
   "source": [
    "extended_data_list"
   ]
  },
  {
   "cell_type": "code",
   "execution_count": 35,
   "id": "51bd1604-4050-43f9-a5e4-050f25455e37",
   "metadata": {
    "scrolled": true
   },
   "outputs": [
    {
     "data": {
      "text/plain": [
       "60706"
      ]
     },
     "execution_count": 35,
     "metadata": {},
     "output_type": "execute_result"
    }
   ],
   "source": [
    "len(extended_data_list)"
   ]
  },
  {
   "cell_type": "markdown",
   "id": "7ac017ea-d261-4489-8443-ea6fffda4af7",
   "metadata": {},
   "source": [
    "## 불용어 제거"
   ]
  },
  {
   "cell_type": "code",
   "execution_count": 39,
   "id": "1f7900a5-0ba9-46c6-8b47-995d9cd1e4fc",
   "metadata": {},
   "outputs": [],
   "source": [
    "import re\n",
    "\n",
    "for item in extended_data_list:\n",
    "    item['SentimentText'] = re.sub(r\"[^가-힣| |]+\", \"\", item['SentimentText']) # 한글만 남기기\n",
    "    item['SentimentText'] = re.sub(' +', ' ', item['SentimentText']).rstrip() # 공백 연속 제거"
   ]
  },
  {
   "cell_type": "code",
   "execution_count": null,
   "id": "cd79d2d6-f417-4317-992d-083f91a90d39",
   "metadata": {},
   "outputs": [],
   "source": [
    "extended_data_list"
   ]
  },
  {
   "cell_type": "markdown",
   "id": "98d89eee-e0cf-4ead-ae59-460e268d5634",
   "metadata": {},
   "source": [
    "## 일의 자리 수 단위인 속성은 제거"
   ]
  },
  {
   "cell_type": "markdown",
   "id": "926d2012-65f5-43e0-a0a7-55b450c99b63",
   "metadata": {},
   "source": [
    "- 스킨케어: 없음\n",
    "- 헤어/바디케어: 그립감\n",
    "- 메이크업/뷰티소품: 없음\n",
    "- 남성화장품: 커버력, 탄력"
   ]
  },
  {
   "cell_type": "code",
   "execution_count": null,
   "id": "4421b594-fa7f-4d0a-8508-a6d51d644d39",
   "metadata": {},
   "outputs": [],
   "source": [
    "# TBD"
   ]
  },
  {
   "cell_type": "markdown",
   "id": "56ed9031-5cb1-4d69-b4bc-7225545128e7",
   "metadata": {},
   "source": [
    "## 데이터 저장"
   ]
  },
  {
   "cell_type": "code",
   "execution_count": 42,
   "id": "e1c492e6-5c2b-4897-bd96-13f6dc440799",
   "metadata": {},
   "outputs": [],
   "source": [
    "import json\n",
    "\n",
    "with open('./nlp_data/스킨케어.json', 'w', encoding='utf-8') as json_file:\n",
    "    json.dump(extended_data_list, json_file, ensure_ascii=False, indent=2)"
   ]
  }
 ],
 "metadata": {
  "kernelspec": {
   "display_name": "Python 3 (ipykernel)",
   "language": "python",
   "name": "python3"
  },
  "language_info": {
   "codemirror_mode": {
    "name": "ipython",
    "version": 3
   },
   "file_extension": ".py",
   "mimetype": "text/x-python",
   "name": "python",
   "nbconvert_exporter": "python",
   "pygments_lexer": "ipython3",
   "version": "3.11.5"
  }
 },
 "nbformat": 4,
 "nbformat_minor": 5
}
