{
 "cells": [
  {
   "cell_type": "markdown",
   "id": "20958015-36d8-4f29-9661-4622e3789e47",
   "metadata": {},
   "source": [
    "## 원본 라벨링 데이터 로드"
   ]
  },
  {
   "cell_type": "code",
   "execution_count": 1,
   "id": "d1357510-600e-4d9c-93b6-08a98ad4e0b4",
   "metadata": {},
   "outputs": [],
   "source": [
    "from collections import Counter\n",
    "import json\n",
    "import re\n",
    "import os\n",
    "\n",
    "from eda_load_json_plugin import load_json_files"
   ]
  },
  {
   "cell_type": "code",
   "execution_count": 3,
   "id": "e3253416-1522-44fd-be32-133abd50ec8b",
   "metadata": {},
   "outputs": [
    {
     "data": {
      "text/plain": [
       "49996"
      ]
     },
     "execution_count": 3,
     "metadata": {},
     "output_type": "execute_result"
    }
   ],
   "source": [
    "files_path = './absa_data/labeling_data'\n",
    "all_json_data = load_json_files(files_path)\n",
    "\n",
    "len(all_json_data)"
   ]
  },
  {
   "cell_type": "code",
   "execution_count": 4,
   "id": "10a683d3-6427-47d6-ae37-5cf90ad598e3",
   "metadata": {},
   "outputs": [
    {
     "data": {
      "text/plain": [
       "{'Index': '745834',\n",
       " 'RawText': '분무기로 나올 때 확산되어서 골고루 잘 퍼집니다. 세팅력도 좋습니다.',\n",
       " 'Source': '쇼핑몰',\n",
       " 'Domain': '화장품',\n",
       " 'MainCategory': '헤어/바디케어',\n",
       " 'ProductName': 'OO 과** 워터 스프레이 252ml 1개',\n",
       " 'ReviewScore': '4',\n",
       " 'Syllable': '38',\n",
       " 'Word': '9',\n",
       " 'RDate': '20220411',\n",
       " 'GeneralPolarity': '1',\n",
       " 'Aspects': [{'Aspect': '분사력',\n",
       "   'SentimentText': '분무기로 나올 때 확산되어서 골고루 잘 퍼집니다.',\n",
       "   'SentimentWord': '7',\n",
       "   'SentimentPolarity': '1'},\n",
       "  {'Aspect': '세팅력/고정력',\n",
       "   'SentimentText': '세팅력도 좋습니다.',\n",
       "   'SentimentWord': '2',\n",
       "   'SentimentPolarity': '1'}]}"
      ]
     },
     "execution_count": 4,
     "metadata": {},
     "output_type": "execute_result"
    }
   ],
   "source": [
    "all_json_data[0]"
   ]
  },
  {
   "cell_type": "markdown",
   "id": "2c072260-fa37-43e3-bc29-bff5661b5ca2",
   "metadata": {},
   "source": [
    "## 데이터 전처리"
   ]
  },
  {
   "cell_type": "code",
   "execution_count": 5,
   "id": "090de1ce-df9e-4f1c-8b6b-eaaae39af9e0",
   "metadata": {},
   "outputs": [],
   "source": [
    "# {\"MainCategory\": \"남성화장품\", \"raw_text\": \"\", \"annotation\": [[\"가격\", \"1\"], [\"유통기한\", \"-1\"]]}\n",
    "converted_data = []\n",
    "\n",
    "for review in all_json_data:\n",
    "    raw_text = re.sub(r\"[^가-힣| |]+\", \" \", review['RawText']) # 한글만 남기기\n",
    "    raw_text = re.sub(' +', ' ', raw_text).rstrip() # 공백 연속 제거, 맨 끝 공백 삭제\n",
    "    aspects = [[aspect['Aspect'], aspect['SentimentPolarity']] for aspect in review.get('Aspects')]\n",
    "\n",
    "    converted_review = {\"MainCategory\": review['MainCategory'], \"raw_text\": raw_text, \"annotation\": aspects}\n",
    "    converted_data.append(converted_review)"
   ]
  },
  {
   "cell_type": "code",
   "execution_count": 6,
   "id": "9221b2af-a9cf-4af3-b937-cce2318b82e2",
   "metadata": {},
   "outputs": [
    {
     "data": {
      "text/plain": [
       "49996"
      ]
     },
     "execution_count": 6,
     "metadata": {},
     "output_type": "execute_result"
    }
   ],
   "source": [
    "len(converted_data)"
   ]
  },
  {
   "cell_type": "code",
   "execution_count": 7,
   "id": "7600b12d-9489-4245-af05-ce77ac025793",
   "metadata": {},
   "outputs": [
    {
     "data": {
      "text/plain": [
       "[{'MainCategory': '스킨케어',\n",
       "  'raw_text': '합리적인가격에 용량도 마음에들어요',\n",
       "  'annotation': [['가격', '1'], ['용량', '1']]}]"
      ]
     },
     "execution_count": 7,
     "metadata": {},
     "output_type": "execute_result"
    }
   ],
   "source": [
    "converted_data[-2:-1]"
   ]
  },
  {
   "cell_type": "code",
   "execution_count": 8,
   "id": "c23534d7-7800-41d4-bb03-42fe107a8191",
   "metadata": {},
   "outputs": [],
   "source": [
    "### 겹치는 aspect 랜덤으로 하나 남기고 제거 - set 사용\n",
    "for review in converted_data:\n",
    "    unique_annotation = {}\n",
    "    for k, v in review.get('annotation', []):\n",
    "        if k not in unique_annotation:\n",
    "            unique_annotation[k] = v\n",
    "\n",
    "    review['annotation'] = list(unique_annotation.items())"
   ]
  },
  {
   "cell_type": "code",
   "execution_count": 9,
   "id": "492e645f-4f83-4196-9d7b-992bfa8019ac",
   "metadata": {},
   "outputs": [
    {
     "data": {
      "text/plain": [
       "[{'MainCategory': '스킨케어',\n",
       "  'raw_text': '합리적인가격에 용량도 마음에들어요',\n",
       "  'annotation': [('가격', '1'), ('용량', '1')]}]"
      ]
     },
     "execution_count": 9,
     "metadata": {},
     "output_type": "execute_result"
    }
   ],
   "source": [
    "converted_data[-2:-1]"
   ]
  },
  {
   "cell_type": "markdown",
   "id": "8a28764b-c01d-4961-b0eb-ff2da471f179",
   "metadata": {},
   "source": [
    "## 중복 제거 후 개수 확인"
   ]
  },
  {
   "cell_type": "code",
   "execution_count": 10,
   "id": "c0d3fd44-2afd-4d93-b0e9-33750b1d810e",
   "metadata": {},
   "outputs": [
    {
     "name": "stdout",
     "output_type": "stream",
     "text": [
      "MainCategory: 헤어/바디케어\n",
      "  가격: 4274\n",
      "  거품력: 826\n",
      "  그립감: 8\n",
      "  기능/효과: 3274\n",
      "  두피보호: 290\n",
      "  디자인: 98\n",
      "  머릿결관리: 2831\n",
      "  밀착력/접착력: 64\n",
      "  발림성: 1053\n",
      "  발색력: 757\n",
      "  보습력/수분감: 2825\n",
      "  분사력: 139\n",
      "  사용감: 370\n",
      "  색상: 369\n",
      "  성분: 603\n",
      "  세정력: 1058\n",
      "  세팅력/고정력: 870\n",
      "  스타일링효과: 985\n",
      "  염색력: 1906\n",
      "  용기: 691\n",
      "  용량/사이즈: 1743\n",
      "  유통기한: 518\n",
      "  윤기/피부(톤): 183\n",
      "  이염: 314\n",
      "  자극성: 1741\n",
      "  제품구성: 1194\n",
      "  제형: 1233\n",
      "  지속력/유지력: 1504\n",
      "  청량감/쿨링감: 1110\n",
      "  클렌징/제거력: 339\n",
      "  탈모개선: 935\n",
      "  편의성/활용성: 3051\n",
      "  품질: 687\n",
      "  피부타입: 341\n",
      "  향/냄새: 5905\n",
      "  흡수력: 1435\n",
      "\n",
      "\n",
      "MainCategory: 스킨케어\n",
      "  가격: 4160\n",
      "  기능/효과: 8011\n",
      "  디자인: 93\n",
      "  밀착력/접착력: 70\n",
      "  발림성: 2757\n",
      "  보습력/수분감: 7566\n",
      "  사용감: 526\n",
      "  색상: 142\n",
      "  성분: 686\n",
      "  용기: 556\n",
      "  용량: 1940\n",
      "  유통기한: 588\n",
      "  윤기/피부(톤): 2888\n",
      "  자극성: 2277\n",
      "  제품구성: 2342\n",
      "  제형: 1651\n",
      "  지속력: 967\n",
      "  커버력: 67\n",
      "  탄력: 853\n",
      "  편의성/활용성: 2807\n",
      "  품질: 653\n",
      "  피부타입: 1241\n",
      "  향: 2641\n",
      "  흡수력: 4088\n",
      "\n",
      "\n",
      "MainCategory: 메이크업/뷰티소품\n",
      "  가격: 3317\n",
      "  기능/효과: 2768\n",
      "  디자인: 420\n",
      "  밀착력/접착력: 1714\n",
      "  발림성: 3160\n",
      "  발색력: 2028\n",
      "  보습력/수분감/쿨링감: 2905\n",
      "  사용감: 290\n",
      "  사이즈/두께: 757\n",
      "  색상: 2742\n",
      "  성분: 159\n",
      "  용기: 1114\n",
      "  용량/개수: 1057\n",
      "  유통기한: 376\n",
      "  윤기/피부(톤): 1716\n",
      "  자극성: 409\n",
      "  제품구성: 1265\n",
      "  제형: 810\n",
      "  지속력/유지력: 3537\n",
      "  커버력: 1980\n",
      "  탄력: 37\n",
      "  편의성/활용성: 2585\n",
      "  품질: 696\n",
      "  피부타입: 330\n",
      "  향: 3450\n",
      "  흡수력: 1593\n",
      "\n",
      "\n",
      "MainCategory: 남성화장품\n",
      "  가격: 1878\n",
      "  기능/효과: 1263\n",
      "  디자인: 127\n",
      "  밀착력/접착력: 24\n",
      "  발림성: 446\n",
      "  보습력/수분감/쿨링감: 1438\n",
      "  사용감: 210\n",
      "  색상: 34\n",
      "  성분: 157\n",
      "  용기: 457\n",
      "  용량: 594\n",
      "  유통기한: 284\n",
      "  윤기/피부(톤): 238\n",
      "  자극성: 661\n",
      "  제품구성: 546\n",
      "  제형: 481\n",
      "  지속력/유지력: 581\n",
      "  커버력: 4\n",
      "  탄력: 9\n",
      "  편의성/활용성: 1380\n",
      "  품질: 328\n",
      "  피부타입: 328\n",
      "  향: 2419\n",
      "  흡수력: 930\n",
      "\n",
      "\n"
     ]
    }
   ],
   "source": [
    "# MainCategory별로 너무 적은 속성은 확인\n",
    "category_aspect_counts = {}\n",
    "\n",
    "for entry in converted_data:\n",
    "    main_category = entry['MainCategory']\n",
    "    aspects = entry['annotation']\n",
    "\n",
    "    if main_category not in category_aspect_counts.keys():\n",
    "        category_aspect_counts[main_category] = Counter()\n",
    "\n",
    "    aspect_texts = [aspect[0] for aspect in aspects]\n",
    "    category_aspect_counts[main_category].update(aspect_texts)\n",
    "\n",
    "# 결과 출력\n",
    "for main_category, aspect_counts in category_aspect_counts.items():\n",
    "    print(f\"MainCategory: {main_category}\")\n",
    "\n",
    "    # Aspect를 오름차순으로 정렬\n",
    "    sorted_aspects = sorted(aspect_counts.items(), key=lambda x: x[0])\n",
    "    \n",
    "    for aspect, count in sorted_aspects:\n",
    "        print(f\"  {aspect}: {count}\")\n",
    "    print(\"\\n\")"
   ]
  },
  {
   "cell_type": "markdown",
   "id": "3adbcb08-3f21-4bcd-ad5c-1df51a57b76c",
   "metadata": {},
   "source": [
    "## MainCategory마다 데이터 분할 저장, 십/일의 자리 수 속성은 제거"
   ]
  },
  {
   "cell_type": "code",
   "execution_count": 11,
   "id": "ca951617-3658-4279-81f8-68bb7174fd0c",
   "metadata": {},
   "outputs": [],
   "source": [
    "skin_care = [item for item in converted_data if item['MainCategory'] == '스킨케어']\n",
    "hair_body_care = [item for item in converted_data if item['MainCategory'] == '헤어/바디케어']\n",
    "make_up_beauty = [item for item in converted_data if item['MainCategory'] == '메이크업/뷰티소품']\n",
    "man_cosmetic = [item for item in converted_data if item['MainCategory'] == '남성화장품']"
   ]
  },
  {
   "cell_type": "code",
   "execution_count": 12,
   "id": "c4daed5a-665d-4a99-8dc6-702eb79e1b59",
   "metadata": {},
   "outputs": [],
   "source": [
    "# MainCategory별로 너무 적은 속성은 데이터에서 제거\n",
    "# 스킨케어: 디자인, 밀착력/접착력, 커버력\n",
    "# 헤어/바디케어: 그립감, 디자인, 밀착력/접착력\n",
    "# 메이크업/뷰티소품: 탄력\n",
    "# 남성화장품: 색상, 커버력, 탄력\n",
    "\n",
    "for item in skin_care:\n",
    "    item['annotation'] = [(anno, val) for anno, val in item['annotation'] if not (anno in ['디자인', '밀착력/접착력', '커버력'])]\n",
    "\n",
    "for item in hair_body_care:\n",
    "    item['annotation'] = [(anno, val) for anno, val in item['annotation'] if not (anno in ['그립감', '디자인', '밀착력/접착력'])]\n",
    "\n",
    "for item in make_up_beauty:\n",
    "    item['annotation'] = [(anno, val) for anno, val in item['annotation'] if not (anno == '탄력')]\n",
    "\n",
    "for item in man_cosmetic:\n",
    "    item['annotation'] = [(anno, val) for anno, val in item['annotation'] if not (anno in ['밀착력/접착력', '색상', '커버력', '탄력'])]"
   ]
  },
  {
   "cell_type": "code",
   "execution_count": 14,
   "id": "eb80b458-3f30-4aee-9236-aa97a6ba4bea",
   "metadata": {},
   "outputs": [],
   "source": [
    "# MainCategory별로 따로 데이터 저장\n",
    "file_names = ['스킨케어', '헤어_바디케어', '메이크업_뷰티소품', '남성화장품']\n",
    "datas = [skin_care, hair_body_care, make_up_beauty, man_cosmetic]\n",
    "for i in range(0, len(file_names)):\n",
    "    data = datas[i]\n",
    "    file_name = file_names[i]\n",
    "\n",
    "    parent_dir = os.path.abspath(os.path.join(os.getcwd(), os.pardir))\n",
    "    file_path = os.path.join(parent_dir, 'NLP' , 'preprocessed_data', f'{file_name}.jsonl')\n",
    "\n",
    "    with open(file_path, 'w', encoding='utf-8') as json_file:\n",
    "        for review in data:\n",
    "            json_line = json.dumps(review, ensure_ascii=False)\n",
    "            json_file.write(json_line + '\\n')"
   ]
  }
 ],
 "metadata": {
  "kernelspec": {
   "display_name": "Python 3 (ipykernel)",
   "language": "python",
   "name": "python3"
  },
  "language_info": {
   "codemirror_mode": {
    "name": "ipython",
    "version": 3
   },
   "file_extension": ".py",
   "mimetype": "text/x-python",
   "name": "python",
   "nbconvert_exporter": "python",
   "pygments_lexer": "ipython3",
   "version": "3.8.10"
  }
 },
 "nbformat": 4,
 "nbformat_minor": 5
}
