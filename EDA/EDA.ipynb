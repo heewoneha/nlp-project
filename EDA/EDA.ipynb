{
 "cells": [
  {
   "cell_type": "markdown",
   "id": "8752023e-e16e-4dd1-8560-85316ff5d7ed",
   "metadata": {},
   "source": [
    "## 데이터 불러오기"
   ]
  },
  {
   "cell_type": "code",
   "execution_count": 1,
   "id": "8d8874c2-2ad5-412d-9d98-fdd0b2d6f373",
   "metadata": {},
   "outputs": [],
   "source": [
    "import json\n",
    "import os\n",
    "\n",
    "def read_json_file(fp):\n",
    "    with open(fp, 'r', encoding='utf-8') as f:\n",
    "        data = json.load(f)\n",
    "    return data\n",
    "\n",
    "def load_json_files(dir):\n",
    "    json_data_list = []\n",
    "\n",
    "    for filename in os.listdir(dir):\n",
    "        if filename.endswith('.json'):\n",
    "            fp = os.path.join(dir, filename)\n",
    "            json_data = read_json_file(fp)\n",
    "            json_data_list.extend(json_data)\n",
    "    \n",
    "    return json_data_list\n",
    "\n",
    "files_path = './absa_data/labeling_data'"
   ]
  },
  {
   "cell_type": "code",
   "execution_count": 2,
   "id": "734296f7-eb1f-412b-8598-5375d24f4129",
   "metadata": {},
   "outputs": [],
   "source": [
    "all_json_data = load_json_files(files_path)"
   ]
  },
  {
   "cell_type": "markdown",
   "id": "b81da29d-0c09-4341-a472-8091885db6f6",
   "metadata": {},
   "source": [
    "## 화장품 관련 데이터 개수 확인"
   ]
  },
  {
   "cell_type": "code",
   "execution_count": 3,
   "id": "f116bc93-6bc1-4a3c-ab7c-a1bf74ef1ca8",
   "metadata": {},
   "outputs": [
    {
     "data": {
      "text/plain": [
       "49996"
      ]
     },
     "execution_count": 3,
     "metadata": {},
     "output_type": "execute_result"
    }
   ],
   "source": [
    "len(all_json_data)"
   ]
  },
  {
   "cell_type": "code",
   "execution_count": null,
   "id": "b3555e87-0b63-48c3-a2a5-00f39161c6b6",
   "metadata": {},
   "outputs": [],
   "source": [
    "all_json_data[0]"
   ]
  },
  {
   "cell_type": "markdown",
   "id": "055323c8-fca7-45ff-9884-72e897f0ef2d",
   "metadata": {},
   "source": [
    "- source: 쇼핑몰, SNS\n",
    "- MainCategory: 화장품 분류(스킨케어, 헤어바디케어, 메이크업뷰티소품, 남성화장품)"
   ]
  },
  {
   "cell_type": "code",
   "execution_count": 5,
   "id": "bdf810e5-6a26-422a-ab58-26e16528ef55",
   "metadata": {},
   "outputs": [],
   "source": [
    "from collections import Counter"
   ]
  },
  {
   "cell_type": "code",
   "execution_count": 6,
   "id": "6319f2da-a46c-4062-9a52-692cb8af4fa0",
   "metadata": {},
   "outputs": [],
   "source": [
    "category_aspect_counts = {}\n",
    "\n",
    "for entry in all_json_data:\n",
    "    main_category = entry['MainCategory']\n",
    "    aspects = entry['Aspects']\n",
    "\n",
    "    if main_category not in category_aspect_counts:\n",
    "        category_aspect_counts[main_category] = Counter()\n",
    "\n",
    "    aspect_texts = [aspect['Aspect'] for aspect in aspects]\n",
    "    category_aspect_counts[main_category].update(aspect_texts)"
   ]
  },
  {
   "cell_type": "code",
   "execution_count": 7,
   "id": "20520f3d-1b3c-4356-a55d-9e32747c23b2",
   "metadata": {},
   "outputs": [
    {
     "name": "stdout",
     "output_type": "stream",
     "text": [
      "MainCategory: 스킨케어\n",
      "  가격: 4668\n",
      "  기능/효과: 11421\n",
      "  디자인: 93\n",
      "  밀착력/접착력: 73\n",
      "  발림성: 2989\n",
      "  보습력/수분감: 9704\n",
      "  사용감: 543\n",
      "  색상: 151\n",
      "  성분: 773\n",
      "  용기: 644\n",
      "  용량: 2128\n",
      "  유통기한: 618\n",
      "  윤기/피부(톤): 3435\n",
      "  자극성: 2903\n",
      "  제품구성: 2645\n",
      "  제형: 1835\n",
      "  지속력: 1009\n",
      "  커버력: 79\n",
      "  탄력: 978\n",
      "  편의성/활용성: 3438\n",
      "  품질: 672\n",
      "  피부타입: 1353\n",
      "  향: 2933\n",
      "  흡수력: 5621\n",
      "\n",
      "\n",
      "MainCategory: 헤어/바디케어\n",
      "  가격: 4775\n",
      "  거품력: 905\n",
      "  그립감: 9\n",
      "  기능/효과: 4214\n",
      "  두피보호: 353\n",
      "  디자인: 108\n",
      "  머릿결관리: 3576\n",
      "  밀착력/접착력: 80\n",
      "  발림성: 1110\n",
      "  발색력: 889\n",
      "  보습력/수분감: 3706\n",
      "  분사력: 159\n",
      "  사용감: 375\n",
      "  색상: 398\n",
      "  성분: 663\n",
      "  세정력: 1183\n",
      "  세팅력/고정력: 1019\n",
      "  스타일링효과: 1145\n",
      "  염색력: 2508\n",
      "  용기: 859\n",
      "  용량/사이즈: 1910\n",
      "  유통기한: 536\n",
      "  윤기/피부(톤): 199\n",
      "  이염: 371\n",
      "  자극성: 2052\n",
      "  제품구성: 1322\n",
      "  제형: 1349\n",
      "  지속력/유지력: 1697\n",
      "  청량감/쿨링감: 1237\n",
      "  클렌징/제거력: 367\n",
      "  탈모개선: 1170\n",
      "  편의성/활용성: 3671\n",
      "  품질: 726\n",
      "  피부타입: 367\n",
      "  향/냄새: 7147\n",
      "  흡수력: 1761\n",
      "\n",
      "\n",
      "MainCategory: 메이크업/뷰티소품\n",
      "  가격: 3753\n",
      "  기능/효과: 3521\n",
      "  디자인: 465\n",
      "  밀착력/접착력: 2072\n",
      "  발림성: 3711\n",
      "  발색력: 2639\n",
      "  보습력/수분감/쿨링감: 3664\n",
      "  사용감: 297\n",
      "  사이즈/두께: 837\n",
      "  색상: 3593\n",
      "  성분: 173\n",
      "  용기: 1309\n",
      "  용량/개수: 1139\n",
      "  유통기한: 408\n",
      "  윤기/피부(톤): 2143\n",
      "  자극성: 480\n",
      "  제품구성: 1379\n",
      "  제형: 914\n",
      "  지속력/유지력: 4333\n",
      "  커버력: 2354\n",
      "  탄력: 38\n",
      "  편의성/활용성: 3143\n",
      "  품질: 769\n",
      "  피부타입: 360\n",
      "  향: 5935\n",
      "  흡수력: 1949\n",
      "\n",
      "\n",
      "MainCategory: 남성화장품\n",
      "  가격: 2129\n",
      "  기능/효과: 1652\n",
      "  디자인: 137\n",
      "  밀착력/접착력: 24\n",
      "  발림성: 463\n",
      "  보습력/수분감/쿨링감: 1959\n",
      "  사용감: 210\n",
      "  색상: 36\n",
      "  성분: 173\n",
      "  용기: 549\n",
      "  용량: 630\n",
      "  유통기한: 301\n",
      "  윤기/피부(톤): 278\n",
      "  자극성: 802\n",
      "  제품구성: 584\n",
      "  제형: 555\n",
      "  지속력/유지력: 677\n",
      "  커버력: 4\n",
      "  탄력: 9\n",
      "  편의성/활용성: 1675\n",
      "  품질: 352\n",
      "  피부타입: 361\n",
      "  향: 3645\n",
      "  흡수력: 1279\n",
      "\n",
      "\n"
     ]
    }
   ],
   "source": [
    "# 결과 출력\n",
    "for main_category, aspect_counts in category_aspect_counts.items():\n",
    "    print(f\"MainCategory: {main_category}\")\n",
    "\n",
    "    # Aspect를 오름차순으로 정렬\n",
    "    sorted_aspects = sorted(aspect_counts.items(), key=lambda x: x[0])\n",
    "    \n",
    "    for aspect, count in sorted_aspects:\n",
    "        print(f\"  {aspect}: {count}\")\n",
    "    print(\"\\n\")"
   ]
  },
  {
   "cell_type": "markdown",
   "id": "671d0497-1afd-470a-878e-628680619751",
   "metadata": {},
   "source": [
    "## 각 감성 극성 개수 살펴보기"
   ]
  },
  {
   "cell_type": "code",
   "execution_count": 11,
   "id": "2d2a1ae7-b336-4b67-82e1-a76e2c6e6e37",
   "metadata": {},
   "outputs": [
    {
     "name": "stdout",
     "output_type": "stream",
     "text": [
      "SentimentPolarity Counts:\n",
      "-1: 48082\n",
      "0: 10184\n",
      "1: 126218\n"
     ]
    }
   ],
   "source": [
    "# 각 SentimentPolarity 값의 개수를 저장할 딕셔너리 초기화\n",
    "sentiment_counts = {'-1': 0, '0': 0, '1': 0}\n",
    "\n",
    "for data in all_json_data:\n",
    "    aspects = data.get('Aspects', [])\n",
    "    for aspect in aspects:\n",
    "        sentiment_polarity = aspect.get('SentimentPolarity', None)\n",
    "        \n",
    "        # SentimentPolarity 값이 존재하면 개수 증가\n",
    "        if sentiment_polarity in sentiment_counts:\n",
    "            sentiment_counts[sentiment_polarity] += 1\n",
    "\n",
    "print(\"SentimentPolarity Counts:\")\n",
    "for sentiment, count in sentiment_counts.items():\n",
    "    print(f\"{sentiment}: {count}\")"
   ]
  },
  {
   "cell_type": "code",
   "execution_count": 12,
   "id": "faca1e7c-f1d0-4027-b389-c3120825174f",
   "metadata": {},
   "outputs": [
    {
     "name": "stdout",
     "output_type": "stream",
     "text": [
      "MainCategory SentimentPolarity Counts:\n",
      "MainCategory: 스킨케어\n",
      "  -1: 14377\n",
      "  0: 4355\n",
      "  1: 41974\n",
      "\n",
      "\n",
      "MainCategory: 헤어/바디케어\n",
      "  -1: 14558\n",
      "  0: 3316\n",
      "  1: 36042\n",
      "\n",
      "\n",
      "MainCategory: 메이크업/뷰티소품\n",
      "  -1: 14074\n",
      "  0: 1964\n",
      "  1: 35340\n",
      "\n",
      "\n",
      "MainCategory: 남성화장품\n",
      "  -1: 5073\n",
      "  0: 549\n",
      "  1: 12862\n",
      "\n",
      "\n"
     ]
    }
   ],
   "source": [
    "from collections import defaultdict\n",
    "\n",
    "main_category_sentiment_counts = defaultdict(lambda: {'-1': 0, '0': 0, '1': 0})\n",
    "\n",
    "for data in all_json_data:\n",
    "    main_category = data.get('MainCategory', None)\n",
    "    \n",
    "    if main_category:\n",
    "        # 각 데이터의 Aspects에서 SentimentPolarity 값을 확인\n",
    "        aspects = data.get('Aspects', [])\n",
    "        for aspect in aspects:\n",
    "            sentiment_polarity = aspect.get('SentimentPolarity', None)\n",
    "            \n",
    "            if sentiment_polarity in main_category_sentiment_counts[main_category]:\n",
    "                main_category_sentiment_counts[main_category][sentiment_polarity] += 1\n",
    "\n",
    "print(\"MainCategory SentimentPolarity Counts:\")\n",
    "for main_category, sentiment_counts in main_category_sentiment_counts.items():\n",
    "    print(f\"MainCategory: {main_category}\")\n",
    "    for sentiment, count in sentiment_counts.items():\n",
    "        print(f\"  {sentiment}: {count}\")\n",
    "    print(\"\\n\")\n"
   ]
  },
  {
   "cell_type": "markdown",
   "id": "97050a24-ab96-4afa-a27a-e026977e1b7d",
   "metadata": {},
   "source": [
    "## 데이터 전처리 테스트"
   ]
  },
  {
   "cell_type": "markdown",
   "id": "5138f6a5-c80a-4c21-adb1-df53e72ae737",
   "metadata": {},
   "source": [
    "- 불용어 처리"
   ]
  },
  {
   "cell_type": "code",
   "execution_count": 2,
   "id": "7a70ea1e-d762-40b6-a724-a012f0a13485",
   "metadata": {},
   "outputs": [],
   "source": [
    "import re"
   ]
  },
  {
   "cell_type": "code",
   "execution_count": 5,
   "id": "b2d62f58-bb99-4a95-bdd8-44a76cc8223d",
   "metadata": {},
   "outputs": [
    {
     "name": "stdout",
     "output_type": "stream",
     "text": [
      "촉촉하고 사용감이 너무 무겁지 않아서 좋아요  향기도 그렇게 진하지 않고 은은한 장미향이 납니다  그냥 추천순에 뜨길래 구매한건데 좋아서 후기씁니다 \n",
      "촉촉하고 사용감이 너무 무겁지 않아서 좋아요 향기도 그렇게 진하지 않고 은은한 장미향이 납니다 그냥 추천순에 뜨길래 구매한건데 좋아서 후기씁니다\n"
     ]
    }
   ],
   "source": [
    "text = '촉촉하고 사용감이 너무 무겁지 않아서 좋아요 ㅎㅎ 향기도 그렇게 진하지 않고 은은한 장미향이 납니다 ! 그냥 추천순에 뜨길래 구매한건데 좋아서 후기씁니다 ㅎㅎ'\n",
    "text = re.sub(r\"[^가-힣| |]+\", \"\", text)\n",
    "cleaned_text = re.sub(' +', ' ', text).rstrip()\n",
    "print(text)\n",
    "print(cleaned_text)"
   ]
  }
 ],
 "metadata": {
  "kernelspec": {
   "display_name": "Python 3 (ipykernel)",
   "language": "python",
   "name": "python3"
  },
  "language_info": {
   "codemirror_mode": {
    "name": "ipython",
    "version": 3
   },
   "file_extension": ".py",
   "mimetype": "text/x-python",
   "name": "python",
   "nbconvert_exporter": "python",
   "pygments_lexer": "ipython3",
   "version": "3.11.5"
  }
 },
 "nbformat": 4,
 "nbformat_minor": 5
}
