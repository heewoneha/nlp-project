{
 "cells": [
  {
   "cell_type": "markdown",
   "id": "3c830a8c-7238-431b-ac99-cc24a6509fc3",
   "metadata": {},
   "source": [
    "## Predict Test"
   ]
  },
  {
   "cell_type": "code",
   "execution_count": 1,
   "id": "a7b698f2-51bd-4451-9178-472d0174ed38",
   "metadata": {},
   "outputs": [],
   "source": [
    "import numpy as np\n",
    "import torch\n",
    "import torch.nn.functional as F\n",
    "import sys\n",
    "import os\n",
    "import csv\n",
    "import re\n",
    "\n",
    "from tqdm import tqdm\n",
    "from torch.utils.data import DataLoader\n",
    "from transformers import AutoModelForSequenceClassification, AutoTokenizer\n",
    "from kiwipiepy import Kiwi\n",
    "\n",
    "sys.path.append(os.path.abspath(os.path.join(os.getcwd(), os.pardir)))\n",
    "\n",
    "from NLP.etc_plugin import check_exists_cuda\n",
    "from NLP.model_plugin import set_seed, prepare_data_and_categories, \\\n",
    "    define_datasets, reshape_to_1d, show_test_evaluation, MODEL_NAME"
   ]
  },
  {
   "cell_type": "code",
   "execution_count": 2,
   "id": "5110fa10-082d-4ef4-8c1a-ef130d3ca6b9",
   "metadata": {},
   "outputs": [],
   "source": [
    "def aspect_evaluate_tests(device, main_category, test_aspect_klue_sets):\n",
    "    length = len(test_aspect_klue_sets)\n",
    "\n",
    "    infers = [[] for i in range(length)]\n",
    "    infer_labels = [[] for i in range(length)]\n",
    "    \n",
    "    for i in range(length):\n",
    "        print(\"=============\")\n",
    "        print(i+1, \") Aspect Test ...\")\n",
    "        BEST_MODEL_NAME = f'./../NLP/MODEL/{main_category}/model_aspect_' + str(i) + \"_best\"\n",
    "        \n",
    "        best_model = AutoModelForSequenceClassification.from_pretrained(BEST_MODEL_NAME)\n",
    "        best_model.to(device) # model을 GPU로 이동\n",
    "        \n",
    "        dataloader = DataLoader(test_aspect_klue_sets[i], batch_size=4, shuffle=False)\n",
    "    \n",
    "        best_model.eval()\n",
    "        output_pred = []\n",
    "        output_prob = []\n",
    "        labels = []\n",
    "    \n",
    "        for data in tqdm(dataloader):\n",
    "            with torch.no_grad():\n",
    "                outputs = best_model(\n",
    "                    input_ids=data['input_ids'].to(device), # data를 GPU로 이동\n",
    "                    attention_mask=data['attention_mask'].to(device),\n",
    "                    token_type_ids=data['token_type_ids'].to(device)\n",
    "                )\n",
    "            logits = outputs[0]\n",
    "            prob = F.softmax(logits, dim=-1).detach().cpu().numpy()\n",
    "            logits = logits.detach().cpu().numpy()\n",
    "            result = np.argmax(logits, axis=-1)\n",
    "            labels.append(data['label'].tolist())\n",
    "    \n",
    "            output_pred.append(result)\n",
    "            output_prob.append(prob)\n",
    "    \n",
    "        pred_answer, output_prob = np.concatenate(output_pred).tolist(), np.concatenate(output_prob, axis=0).tolist()\n",
    "        \n",
    "        infers[i].extend(pred_answer)\n",
    "        infer_labels[i].extend(labels)\n",
    "\n",
    "    return infers, infer_labels"
   ]
  },
  {
   "cell_type": "code",
   "execution_count": 3,
   "id": "f98fe2cc-2e55-465a-bf6a-2c4565374243",
   "metadata": {},
   "outputs": [],
   "source": [
    "def sentiment_evaluate_tests(device, main_category, test_sentiment_klue_sets):\n",
    "    print(\"=============\")\n",
    "    print(\"Sentiment Test ...\")\n",
    "    BEST_MODEL_NAME = f'./../NLP/MODEL/{main_category}/model_sentiment_best'\n",
    "    \n",
    "    best_model = AutoModelForSequenceClassification.from_pretrained(BEST_MODEL_NAME)\n",
    "    best_model.to(device)\n",
    "    \n",
    "    dataloader = DataLoader(test_sentiment_klue_sets, batch_size=4, shuffle=False)\n",
    "    \n",
    "    best_model.eval()\n",
    "    output_pred = []\n",
    "    output_prob = []\n",
    "    labels = []\n",
    "    \n",
    "    for data in tqdm(dataloader):\n",
    "        with torch.no_grad():\n",
    "            outputs = best_model(\n",
    "                input_ids=data['input_ids'].to(device),\n",
    "                attention_mask=data['attention_mask'].to(device),\n",
    "                token_type_ids=data['token_type_ids'].to(device)\n",
    "            )\n",
    "        logits = outputs[0]\n",
    "        prob = F.softmax(logits, dim=-1).detach().cpu().numpy()\n",
    "        logits = logits.detach().cpu().numpy()\n",
    "        result = np.argmax(logits, axis=-1)\n",
    "        labels.append(data['label'].tolist())\n",
    "    \n",
    "        output_pred.append(result)\n",
    "        output_prob.append(prob)\n",
    "    \n",
    "    pred_answer, output_prob = np.concatenate(output_pred).tolist(), np.concatenate(output_prob, axis=0).tolist()\n",
    "    \n",
    "    infers = [pred_answer]\n",
    "    infer_labels = [labels]\n",
    "\n",
    "    return infers, infer_labels"
   ]
  },
  {
   "cell_type": "markdown",
   "id": "1f16b4f4-a57a-4bd5-9171-d977617205b3",
   "metadata": {},
   "source": [
    "## Save Prediction Results"
   ]
  },
  {
   "cell_type": "code",
   "execution_count": 4,
   "id": "2aa7bb52",
   "metadata": {},
   "outputs": [],
   "source": [
    "def save_asp_prediction_results(main_category, category_with_original_aspects \\\n",
    "                            , test_ASP_datas, test_ASP_labels, asp_infers):\n",
    "    \"\"\"\n",
    "    BEST 모델에 aspect test 데이터셋을 넣어 예측한 값, 정답 및 리뷰 원문을 csv로 저장하는 함수\n",
    "    \"\"\"\n",
    "    output_file_path = f'./csv_results/{main_category}/'\n",
    "    output_pred_file_name = 'test_asp_prediction_results.csv'\n",
    "    output_corr_file_name = 'test_asp_correct_results.csv'\n",
    "    os.makedirs(output_file_path, exist_ok=True)\n",
    "\n",
    "    pattern = re.compile(fr'{main_category}#([^\\s]+)')\n",
    "\n",
    "    ### 속성(Aspect) ###\n",
    "    asp_data_list = [\n",
    "        ['sentence', 'prediction', 'correct'], # Column Title\n",
    "    ]\n",
    "\n",
    "    for i in range(0, len(test_ASP_datas[0])):\n",
    "        prediction_aspects = []\n",
    "        correct_aspects = []\n",
    "        for j in range(0, len(category_with_original_aspects)):\n",
    "            if asp_infers[j][i]:\n",
    "                prediction_aspects.append(category_with_original_aspects[j])\n",
    "            if test_ASP_labels[j][i]:\n",
    "                correct_aspects.append(category_with_original_aspects[j])\n",
    "        asp_data_list.append([test_ASP_datas[0][i], prediction_aspects, correct_aspects])\n",
    "\n",
    "    # Unnesting Prediction\n",
    "    transformed_asp_prediction_data_list = [\n",
    "        ['main_category', 'id', 'sentence', 'prediction'],\n",
    "    ]\n",
    "\n",
    "    for index, row in enumerate(asp_data_list[1:]):\n",
    "        sentence, predictions, corrects = row\n",
    "        for prediction in predictions:\n",
    "            match = pattern.search(prediction)\n",
    "            prediction_val = match.group(1)\n",
    "            transformed_asp_prediction_data_list.append([\n",
    "                main_category,\n",
    "                index+1,\n",
    "                sentence,\n",
    "                prediction_val\n",
    "            ])\n",
    "\n",
    "    with open(output_file_path+output_pred_file_name, mode=\"w\", newline=\"\", encoding=\"cp949\") as file:\n",
    "        writer = csv.writer(file)\n",
    "    \n",
    "        for row in transformed_asp_prediction_data_list:\n",
    "            writer.writerow(row)\n",
    "\n",
    "    # Unnesting Correct\n",
    "    transformed_asp_correct_data_list = [\n",
    "        ['main_category', 'id', 'sentence', 'correct'],\n",
    "    ]\n",
    "\n",
    "    for index, row in enumerate(asp_data_list[1:]):\n",
    "        sentence, predictions, corrects = row\n",
    "        for correct in corrects:\n",
    "            match = pattern.search(correct)\n",
    "            correct_val = match.group(1)\n",
    "            transformed_asp_correct_data_list.append([\n",
    "                main_category,\n",
    "                index+1,\n",
    "                sentence,\n",
    "                correct_val\n",
    "            ])\n",
    "\n",
    "    with open(output_file_path+output_corr_file_name, mode=\"w\", newline=\"\", encoding=\"cp949\") as file:\n",
    "        writer = csv.writer(file)\n",
    "    \n",
    "        for row in transformed_asp_correct_data_list:\n",
    "            writer.writerow(row)"
   ]
  },
  {
   "cell_type": "code",
   "execution_count": 5,
   "id": "56d0f46d-9e42-4996-8d9d-587de34c6418",
   "metadata": {},
   "outputs": [],
   "source": [
    "def save_sen_prediction_results(main_category, kiwi \\\n",
    "                                , test_SEN_data, test_SEN_labels, sen_infers):\n",
    "    \"\"\"\n",
    "    BEST 모델에 sentiment test 데이터셋을 넣어 예측한 값, 정답 및 리뷰 원문을 csv로 저장하는 함수\n",
    "    \"\"\"\n",
    "    output_file_path = f'./csv_results/{main_category}/'\n",
    "    output_file_name = 'test_sen_word_cloud_results.csv'\n",
    "    os.makedirs(output_file_path, exist_ok=True)\n",
    "\n",
    "    ### 감성(Sentiment) ###\n",
    "    sen_word_cloud_data_list = [\n",
    "        ['noun', 'main_category', 'aspect', 'prediction', 'correct'], # Column Title\n",
    "    ]\n",
    "\n",
    "    for i in range(0, len(test_SEN_data)):\n",
    "        sentence = test_SEN_data[i]\n",
    "        pattern = re.compile(fr'{main_category}#([^\\s]+)')\n",
    "        match = pattern.search(sentence)\n",
    "        aspect = match.group(1)\n",
    "        cleaned_sentence = re.sub(pattern, '', sentence).rstrip()\n",
    "\n",
    "        tokenized_result = kiwi.tokenize(cleaned_sentence)\n",
    "        noun_results = [token.form for token in tokenized_result if token.tag in {'NNG', 'NNP'}]\n",
    "\n",
    "        # Unnesting Nouns\n",
    "        for noun_result in noun_results:\n",
    "            sen_word_cloud_data_list.append([noun_result, main_category, aspect, sen_infers[0][i], test_SEN_labels[i]])\n",
    "    \n",
    "    with open(output_file_path+output_file_name, mode=\"w\", newline=\"\", encoding=\"cp949\") as file:\n",
    "        writer = csv.writer(file)\n",
    "    \n",
    "        for row in sen_word_cloud_data_list:\n",
    "            writer.writerow(row)"
   ]
  },
  {
   "cell_type": "markdown",
   "id": "0653dd62-1d79-4513-8820-72924a35b47a",
   "metadata": {},
   "source": [
    "## Main"
   ]
  },
  {
   "cell_type": "code",
   "execution_count": 6,
   "id": "40a05040-bfcd-4cc3-8bd9-914b909af4f6",
   "metadata": {
    "scrolled": true
   },
   "outputs": [
    {
     "name": "stdout",
     "output_type": "stream",
     "text": [
      "========cuda========\n",
      "Device: <class 'torch.cuda.device'>\n",
      "Count of using GPUs: 2\n",
      "Current cuda device: 0\n",
      "====================\n",
      "=================스킨케어====================\n",
      "=============\n",
      "1 ) Aspect Test ...\n"
     ]
    },
    {
     "name": "stderr",
     "output_type": "stream",
     "text": [
      "100%|█████████████████████████████████████████████████████████████████████████████████| 818/818 [00:13<00:00, 61.32it/s]\n"
     ]
    },
    {
     "name": "stdout",
     "output_type": "stream",
     "text": [
      "=============\n",
      "2 ) Aspect Test ...\n"
     ]
    },
    {
     "name": "stderr",
     "output_type": "stream",
     "text": [
      "100%|█████████████████████████████████████████████████████████████████████████████████| 818/818 [00:13<00:00, 62.03it/s]\n"
     ]
    },
    {
     "name": "stdout",
     "output_type": "stream",
     "text": [
      "=============\n",
      "3 ) Aspect Test ...\n"
     ]
    },
    {
     "name": "stderr",
     "output_type": "stream",
     "text": [
      "100%|█████████████████████████████████████████████████████████████████████████████████| 818/818 [00:13<00:00, 62.07it/s]\n"
     ]
    },
    {
     "name": "stdout",
     "output_type": "stream",
     "text": [
      "=============\n",
      "4 ) Aspect Test ...\n"
     ]
    },
    {
     "name": "stderr",
     "output_type": "stream",
     "text": [
      "100%|█████████████████████████████████████████████████████████████████████████████████| 818/818 [00:13<00:00, 62.05it/s]\n"
     ]
    },
    {
     "name": "stdout",
     "output_type": "stream",
     "text": [
      "=============\n",
      "5 ) Aspect Test ...\n"
     ]
    },
    {
     "name": "stderr",
     "output_type": "stream",
     "text": [
      "100%|█████████████████████████████████████████████████████████████████████████████████| 818/818 [00:13<00:00, 62.05it/s]\n"
     ]
    },
    {
     "name": "stdout",
     "output_type": "stream",
     "text": [
      "=============\n",
      "6 ) Aspect Test ...\n"
     ]
    },
    {
     "name": "stderr",
     "output_type": "stream",
     "text": [
      "100%|█████████████████████████████████████████████████████████████████████████████████| 818/818 [00:13<00:00, 62.03it/s]\n"
     ]
    },
    {
     "name": "stdout",
     "output_type": "stream",
     "text": [
      "=============\n",
      "7 ) Aspect Test ...\n"
     ]
    },
    {
     "name": "stderr",
     "output_type": "stream",
     "text": [
      "100%|█████████████████████████████████████████████████████████████████████████████████| 818/818 [00:13<00:00, 61.98it/s]\n"
     ]
    },
    {
     "name": "stdout",
     "output_type": "stream",
     "text": [
      "=============\n",
      "8 ) Aspect Test ...\n"
     ]
    },
    {
     "name": "stderr",
     "output_type": "stream",
     "text": [
      "100%|█████████████████████████████████████████████████████████████████████████████████| 818/818 [00:13<00:00, 61.94it/s]\n"
     ]
    },
    {
     "name": "stdout",
     "output_type": "stream",
     "text": [
      "=============\n",
      "9 ) Aspect Test ...\n"
     ]
    },
    {
     "name": "stderr",
     "output_type": "stream",
     "text": [
      "100%|█████████████████████████████████████████████████████████████████████████████████| 818/818 [00:13<00:00, 61.93it/s]\n"
     ]
    },
    {
     "name": "stdout",
     "output_type": "stream",
     "text": [
      "=============\n",
      "10 ) Aspect Test ...\n"
     ]
    },
    {
     "name": "stderr",
     "output_type": "stream",
     "text": [
      "100%|█████████████████████████████████████████████████████████████████████████████████| 818/818 [00:13<00:00, 61.91it/s]\n"
     ]
    },
    {
     "name": "stdout",
     "output_type": "stream",
     "text": [
      "=============\n",
      "11 ) Aspect Test ...\n"
     ]
    },
    {
     "name": "stderr",
     "output_type": "stream",
     "text": [
      "100%|█████████████████████████████████████████████████████████████████████████████████| 818/818 [00:13<00:00, 61.89it/s]\n"
     ]
    },
    {
     "name": "stdout",
     "output_type": "stream",
     "text": [
      "=============\n",
      "12 ) Aspect Test ...\n"
     ]
    },
    {
     "name": "stderr",
     "output_type": "stream",
     "text": [
      "100%|█████████████████████████████████████████████████████████████████████████████████| 818/818 [00:13<00:00, 61.86it/s]\n"
     ]
    },
    {
     "name": "stdout",
     "output_type": "stream",
     "text": [
      "=============\n",
      "13 ) Aspect Test ...\n"
     ]
    },
    {
     "name": "stderr",
     "output_type": "stream",
     "text": [
      "100%|█████████████████████████████████████████████████████████████████████████████████| 818/818 [00:13<00:00, 61.78it/s]\n"
     ]
    },
    {
     "name": "stdout",
     "output_type": "stream",
     "text": [
      "=============\n",
      "14 ) Aspect Test ...\n"
     ]
    },
    {
     "name": "stderr",
     "output_type": "stream",
     "text": [
      "100%|█████████████████████████████████████████████████████████████████████████████████| 818/818 [00:13<00:00, 61.82it/s]\n"
     ]
    },
    {
     "name": "stdout",
     "output_type": "stream",
     "text": [
      "=============\n",
      "15 ) Aspect Test ...\n"
     ]
    },
    {
     "name": "stderr",
     "output_type": "stream",
     "text": [
      "100%|█████████████████████████████████████████████████████████████████████████████████| 818/818 [00:13<00:00, 61.82it/s]\n"
     ]
    },
    {
     "name": "stdout",
     "output_type": "stream",
     "text": [
      "=============\n",
      "16 ) Aspect Test ...\n"
     ]
    },
    {
     "name": "stderr",
     "output_type": "stream",
     "text": [
      "100%|█████████████████████████████████████████████████████████████████████████████████| 818/818 [00:13<00:00, 61.79it/s]\n"
     ]
    },
    {
     "name": "stdout",
     "output_type": "stream",
     "text": [
      "=============\n",
      "17 ) Aspect Test ...\n"
     ]
    },
    {
     "name": "stderr",
     "output_type": "stream",
     "text": [
      "100%|█████████████████████████████████████████████████████████████████████████████████| 818/818 [00:13<00:00, 61.80it/s]\n"
     ]
    },
    {
     "name": "stdout",
     "output_type": "stream",
     "text": [
      "=============\n",
      "18 ) Aspect Test ...\n"
     ]
    },
    {
     "name": "stderr",
     "output_type": "stream",
     "text": [
      "100%|█████████████████████████████████████████████████████████████████████████████████| 818/818 [00:13<00:00, 61.81it/s]\n"
     ]
    },
    {
     "name": "stdout",
     "output_type": "stream",
     "text": [
      "=============\n",
      "19 ) Aspect Test ...\n"
     ]
    },
    {
     "name": "stderr",
     "output_type": "stream",
     "text": [
      "100%|█████████████████████████████████████████████████████████████████████████████████| 818/818 [00:13<00:00, 61.78it/s]\n"
     ]
    },
    {
     "name": "stdout",
     "output_type": "stream",
     "text": [
      "=============\n",
      "20 ) Aspect Test ...\n"
     ]
    },
    {
     "name": "stderr",
     "output_type": "stream",
     "text": [
      "100%|█████████████████████████████████████████████████████████████████████████████████| 818/818 [00:13<00:00, 61.77it/s]\n"
     ]
    },
    {
     "name": "stdout",
     "output_type": "stream",
     "text": [
      "=============\n",
      "21 ) Aspect Test ...\n"
     ]
    },
    {
     "name": "stderr",
     "output_type": "stream",
     "text": [
      "100%|█████████████████████████████████████████████████████████████████████████████████| 818/818 [00:13<00:00, 61.77it/s]\n"
     ]
    },
    {
     "name": "stdout",
     "output_type": "stream",
     "text": [
      "0 th Test.....\n",
      "Accuracy:  0.9886815539920465\n",
      "Precision: 0.9675174013921114\n",
      "Recall: 0.9893238434163701\n",
      "F1-score: 0.9782991202346042\n",
      "1 th Test.....\n",
      "Accuracy:  0.9360660752523707\n",
      "Precision: 0.9193548387096774\n",
      "Recall: 0.9443339960238568\n",
      "F1-score: 0.9316770186335404\n",
      "2 th Test.....\n",
      "Accuracy:  0.987152034261242\n",
      "Precision: 0.9611486486486487\n",
      "Recall: 0.967687074829932\n",
      "F1-score: 0.964406779661017\n",
      "3 th Test.....\n",
      "Accuracy:  0.9770572040379321\n",
      "Precision: 0.9686666666666667\n",
      "Recall: 0.9810938555030385\n",
      "F1-score: 0.974840657497484\n",
      "4 th Test.....\n",
      "Accuracy:  0.9978586723768736\n",
      "Precision: 0.9444444444444444\n",
      "Recall: 0.9770114942528736\n",
      "F1-score: 0.96045197740113\n",
      "5 th Test.....\n",
      "Accuracy:  0.9905169776690119\n",
      "Precision: 0.3783783783783784\n",
      "Recall: 0.6363636363636364\n",
      "F1-score: 0.4745762711864407\n",
      "6 th Test.....\n",
      "Accuracy:  0.9957173447537473\n",
      "Precision: 0.8505747126436781\n",
      "Recall: 0.9866666666666667\n",
      "F1-score: 0.9135802469135803\n",
      "7 th Test.....\n",
      "Accuracy:  0.987152034261242\n",
      "Precision: 0.8372093023255814\n",
      "Recall: 0.72\n",
      "F1-score: 0.7741935483870969\n",
      "8 th Test.....\n",
      "Accuracy:  0.9874579382074029\n",
      "Precision: 0.9429347826086957\n",
      "Recall: 0.9455040871934605\n",
      "F1-score: 0.9442176870748299\n",
      "9 th Test.....\n",
      "Accuracy:  0.9993881921076782\n",
      "Precision: 0.98989898989899\n",
      "Recall: 0.98989898989899\n",
      "F1-score: 0.98989898989899\n",
      "10 th Test.....\n",
      "Accuracy:  0.9779749158764148\n",
      "Precision: 0.9320754716981132\n",
      "Recall: 0.9320754716981132\n",
      "F1-score: 0.9320754716981132\n",
      "11 th Test.....\n",
      "Accuracy:  0.990211073722851\n",
      "Precision: 0.9350282485875706\n",
      "Recall: 0.9735294117647059\n",
      "F1-score: 0.9538904899135446\n",
      "12 th Test.....\n",
      "Accuracy:  0.9779749158764148\n",
      "Precision: 0.9320754716981132\n",
      "Recall: 0.9320754716981132\n",
      "F1-score: 0.9320754716981132\n",
      "13 th Test.....\n",
      "Accuracy:  0.9951055368614256\n",
      "Precision: 0.9731800766283525\n",
      "Recall: 0.9657794676806084\n",
      "F1-score: 0.9694656488549619\n",
      "14 th Test.....\n",
      "Accuracy:  0.9868461303150811\n",
      "Precision: 0.923469387755102\n",
      "Recall: 0.8660287081339713\n",
      "F1-score: 0.8938271604938272\n",
      "15 th Test.....\n",
      "Accuracy:  0.9920464973998164\n",
      "Precision: 0.8741258741258742\n",
      "Recall: 0.9398496240601504\n",
      "F1-score: 0.9057971014492754\n",
      "16 th Test.....\n",
      "Accuracy:  0.9736922606301621\n",
      "Precision: 0.9046875\n",
      "Recall: 0.9586092715231788\n",
      "F1-score: 0.9308681672025724\n",
      "17 th Test.....\n",
      "Accuracy:  0.9984704802691955\n",
      "Precision: 0.96\n",
      "Recall: 1.0\n",
      "F1-score: 0.9795918367346939\n",
      "18 th Test.....\n",
      "Accuracy:  0.9868461303150811\n",
      "Precision: 0.8445378151260504\n",
      "Recall: 0.9710144927536232\n",
      "F1-score: 0.903370786516854\n",
      "19 th Test.....\n",
      "Accuracy:  0.9987763842153564\n",
      "Precision: 0.9919028340080972\n",
      "Recall: 1.0\n",
      "F1-score: 0.9959349593495934\n",
      "20 th Test.....\n",
      "Accuracy:  0.9764453961456103\n",
      "Precision: 0.9416873449131513\n",
      "Recall: 0.9619771863117871\n",
      "F1-score: 0.9517241379310345\n",
      "=============\n",
      "Sentiment Test ...\n"
     ]
    },
    {
     "name": "stderr",
     "output_type": "stream",
     "text": [
      "100%|███████████████████████████████████████████████████████████████████████████████| 2347/2347 [00:38<00:00, 61.60it/s]\n"
     ]
    },
    {
     "name": "stdout",
     "output_type": "stream",
     "text": [
      "0 th Test.....\n",
      "Accuracy:  0.8826976347751971\n",
      "Precision: 0.8817127438422536\n",
      "Recall: 0.8826976347751971\n",
      "F1-score: 0.8815955489872689\n",
      "================================================\n",
      "=================헤어_바디케어====================\n",
      "=============\n",
      "1 ) Aspect Test ...\n"
     ]
    },
    {
     "name": "stderr",
     "output_type": "stream",
     "text": [
      "100%|█████████████████████████████████████████████████████████████████████████████████| 771/771 [00:12<00:00, 62.28it/s]\n"
     ]
    },
    {
     "name": "stdout",
     "output_type": "stream",
     "text": [
      "=============\n",
      "2 ) Aspect Test ...\n"
     ]
    },
    {
     "name": "stderr",
     "output_type": "stream",
     "text": [
      "100%|█████████████████████████████████████████████████████████████████████████████████| 771/771 [00:12<00:00, 62.08it/s]\n"
     ]
    },
    {
     "name": "stdout",
     "output_type": "stream",
     "text": [
      "=============\n",
      "3 ) Aspect Test ...\n"
     ]
    },
    {
     "name": "stderr",
     "output_type": "stream",
     "text": [
      "100%|█████████████████████████████████████████████████████████████████████████████████| 771/771 [00:12<00:00, 61.91it/s]\n"
     ]
    },
    {
     "name": "stdout",
     "output_type": "stream",
     "text": [
      "=============\n",
      "4 ) Aspect Test ...\n"
     ]
    },
    {
     "name": "stderr",
     "output_type": "stream",
     "text": [
      "100%|█████████████████████████████████████████████████████████████████████████████████| 771/771 [00:12<00:00, 61.80it/s]\n"
     ]
    },
    {
     "name": "stdout",
     "output_type": "stream",
     "text": [
      "=============\n",
      "5 ) Aspect Test ...\n"
     ]
    },
    {
     "name": "stderr",
     "output_type": "stream",
     "text": [
      "100%|█████████████████████████████████████████████████████████████████████████████████| 771/771 [00:12<00:00, 61.74it/s]\n"
     ]
    },
    {
     "name": "stdout",
     "output_type": "stream",
     "text": [
      "=============\n",
      "6 ) Aspect Test ...\n"
     ]
    },
    {
     "name": "stderr",
     "output_type": "stream",
     "text": [
      "100%|█████████████████████████████████████████████████████████████████████████████████| 771/771 [00:12<00:00, 61.73it/s]\n"
     ]
    },
    {
     "name": "stdout",
     "output_type": "stream",
     "text": [
      "=============\n",
      "7 ) Aspect Test ...\n"
     ]
    },
    {
     "name": "stderr",
     "output_type": "stream",
     "text": [
      "100%|█████████████████████████████████████████████████████████████████████████████████| 771/771 [00:12<00:00, 61.71it/s]\n"
     ]
    },
    {
     "name": "stdout",
     "output_type": "stream",
     "text": [
      "=============\n",
      "8 ) Aspect Test ...\n"
     ]
    },
    {
     "name": "stderr",
     "output_type": "stream",
     "text": [
      "100%|█████████████████████████████████████████████████████████████████████████████████| 771/771 [00:12<00:00, 61.68it/s]\n"
     ]
    },
    {
     "name": "stdout",
     "output_type": "stream",
     "text": [
      "=============\n",
      "9 ) Aspect Test ...\n"
     ]
    },
    {
     "name": "stderr",
     "output_type": "stream",
     "text": [
      "100%|█████████████████████████████████████████████████████████████████████████████████| 771/771 [00:12<00:00, 61.67it/s]\n"
     ]
    },
    {
     "name": "stdout",
     "output_type": "stream",
     "text": [
      "=============\n",
      "10 ) Aspect Test ...\n"
     ]
    },
    {
     "name": "stderr",
     "output_type": "stream",
     "text": [
      "100%|█████████████████████████████████████████████████████████████████████████████████| 771/771 [00:12<00:00, 61.68it/s]\n"
     ]
    },
    {
     "name": "stdout",
     "output_type": "stream",
     "text": [
      "=============\n",
      "11 ) Aspect Test ...\n"
     ]
    },
    {
     "name": "stderr",
     "output_type": "stream",
     "text": [
      "100%|█████████████████████████████████████████████████████████████████████████████████| 771/771 [00:12<00:00, 61.66it/s]\n"
     ]
    },
    {
     "name": "stdout",
     "output_type": "stream",
     "text": [
      "=============\n",
      "12 ) Aspect Test ...\n"
     ]
    },
    {
     "name": "stderr",
     "output_type": "stream",
     "text": [
      "100%|█████████████████████████████████████████████████████████████████████████████████| 771/771 [00:12<00:00, 61.66it/s]\n"
     ]
    },
    {
     "name": "stdout",
     "output_type": "stream",
     "text": [
      "=============\n",
      "13 ) Aspect Test ...\n"
     ]
    },
    {
     "name": "stderr",
     "output_type": "stream",
     "text": [
      "100%|█████████████████████████████████████████████████████████████████████████████████| 771/771 [00:12<00:00, 61.67it/s]\n"
     ]
    },
    {
     "name": "stdout",
     "output_type": "stream",
     "text": [
      "=============\n",
      "14 ) Aspect Test ...\n"
     ]
    },
    {
     "name": "stderr",
     "output_type": "stream",
     "text": [
      "100%|█████████████████████████████████████████████████████████████████████████████████| 771/771 [00:12<00:00, 61.65it/s]\n"
     ]
    },
    {
     "name": "stdout",
     "output_type": "stream",
     "text": [
      "=============\n",
      "15 ) Aspect Test ...\n"
     ]
    },
    {
     "name": "stderr",
     "output_type": "stream",
     "text": [
      "100%|█████████████████████████████████████████████████████████████████████████████████| 771/771 [00:12<00:00, 61.15it/s]\n"
     ]
    },
    {
     "name": "stdout",
     "output_type": "stream",
     "text": [
      "=============\n",
      "16 ) Aspect Test ...\n"
     ]
    },
    {
     "name": "stderr",
     "output_type": "stream",
     "text": [
      "100%|█████████████████████████████████████████████████████████████████████████████████| 771/771 [00:12<00:00, 61.63it/s]\n"
     ]
    },
    {
     "name": "stdout",
     "output_type": "stream",
     "text": [
      "=============\n",
      "17 ) Aspect Test ...\n"
     ]
    },
    {
     "name": "stderr",
     "output_type": "stream",
     "text": [
      "100%|█████████████████████████████████████████████████████████████████████████████████| 771/771 [00:12<00:00, 61.61it/s]\n"
     ]
    },
    {
     "name": "stdout",
     "output_type": "stream",
     "text": [
      "=============\n",
      "18 ) Aspect Test ...\n"
     ]
    },
    {
     "name": "stderr",
     "output_type": "stream",
     "text": [
      "100%|█████████████████████████████████████████████████████████████████████████████████| 771/771 [00:12<00:00, 61.62it/s]\n"
     ]
    },
    {
     "name": "stdout",
     "output_type": "stream",
     "text": [
      "=============\n",
      "19 ) Aspect Test ...\n"
     ]
    },
    {
     "name": "stderr",
     "output_type": "stream",
     "text": [
      "100%|█████████████████████████████████████████████████████████████████████████████████| 771/771 [00:12<00:00, 61.65it/s]\n"
     ]
    },
    {
     "name": "stdout",
     "output_type": "stream",
     "text": [
      "=============\n",
      "20 ) Aspect Test ...\n"
     ]
    },
    {
     "name": "stderr",
     "output_type": "stream",
     "text": [
      "100%|█████████████████████████████████████████████████████████████████████████████████| 771/771 [00:12<00:00, 61.64it/s]\n"
     ]
    },
    {
     "name": "stdout",
     "output_type": "stream",
     "text": [
      "=============\n",
      "21 ) Aspect Test ...\n"
     ]
    },
    {
     "name": "stderr",
     "output_type": "stream",
     "text": [
      "100%|█████████████████████████████████████████████████████████████████████████████████| 771/771 [00:12<00:00, 61.63it/s]\n"
     ]
    },
    {
     "name": "stdout",
     "output_type": "stream",
     "text": [
      "=============\n",
      "22 ) Aspect Test ...\n"
     ]
    },
    {
     "name": "stderr",
     "output_type": "stream",
     "text": [
      "100%|█████████████████████████████████████████████████████████████████████████████████| 771/771 [00:12<00:00, 61.66it/s]\n"
     ]
    },
    {
     "name": "stdout",
     "output_type": "stream",
     "text": [
      "=============\n",
      "23 ) Aspect Test ...\n"
     ]
    },
    {
     "name": "stderr",
     "output_type": "stream",
     "text": [
      "100%|█████████████████████████████████████████████████████████████████████████████████| 771/771 [00:12<00:00, 61.66it/s]\n"
     ]
    },
    {
     "name": "stdout",
     "output_type": "stream",
     "text": [
      "=============\n",
      "24 ) Aspect Test ...\n"
     ]
    },
    {
     "name": "stderr",
     "output_type": "stream",
     "text": [
      "100%|█████████████████████████████████████████████████████████████████████████████████| 771/771 [00:12<00:00, 61.65it/s]\n"
     ]
    },
    {
     "name": "stdout",
     "output_type": "stream",
     "text": [
      "=============\n",
      "25 ) Aspect Test ...\n"
     ]
    },
    {
     "name": "stderr",
     "output_type": "stream",
     "text": [
      "100%|█████████████████████████████████████████████████████████████████████████████████| 771/771 [00:12<00:00, 61.68it/s]\n"
     ]
    },
    {
     "name": "stdout",
     "output_type": "stream",
     "text": [
      "=============\n",
      "26 ) Aspect Test ...\n"
     ]
    },
    {
     "name": "stderr",
     "output_type": "stream",
     "text": [
      "100%|█████████████████████████████████████████████████████████████████████████████████| 771/771 [00:12<00:00, 61.68it/s]\n"
     ]
    },
    {
     "name": "stdout",
     "output_type": "stream",
     "text": [
      "=============\n",
      "27 ) Aspect Test ...\n"
     ]
    },
    {
     "name": "stderr",
     "output_type": "stream",
     "text": [
      "100%|█████████████████████████████████████████████████████████████████████████████████| 771/771 [00:12<00:00, 61.17it/s]\n"
     ]
    },
    {
     "name": "stdout",
     "output_type": "stream",
     "text": [
      "=============\n",
      "28 ) Aspect Test ...\n"
     ]
    },
    {
     "name": "stderr",
     "output_type": "stream",
     "text": [
      "100%|█████████████████████████████████████████████████████████████████████████████████| 771/771 [00:12<00:00, 61.67it/s]\n"
     ]
    },
    {
     "name": "stdout",
     "output_type": "stream",
     "text": [
      "=============\n",
      "29 ) Aspect Test ...\n"
     ]
    },
    {
     "name": "stderr",
     "output_type": "stream",
     "text": [
      "100%|█████████████████████████████████████████████████████████████████████████████████| 771/771 [00:12<00:00, 61.68it/s]\n"
     ]
    },
    {
     "name": "stdout",
     "output_type": "stream",
     "text": [
      "=============\n",
      "30 ) Aspect Test ...\n"
     ]
    },
    {
     "name": "stderr",
     "output_type": "stream",
     "text": [
      "100%|█████████████████████████████████████████████████████████████████████████████████| 771/771 [00:12<00:00, 61.70it/s]\n"
     ]
    },
    {
     "name": "stdout",
     "output_type": "stream",
     "text": [
      "=============\n",
      "31 ) Aspect Test ...\n"
     ]
    },
    {
     "name": "stderr",
     "output_type": "stream",
     "text": [
      "100%|█████████████████████████████████████████████████████████████████████████████████| 771/771 [00:12<00:00, 61.70it/s]\n"
     ]
    },
    {
     "name": "stdout",
     "output_type": "stream",
     "text": [
      "=============\n",
      "32 ) Aspect Test ...\n"
     ]
    },
    {
     "name": "stderr",
     "output_type": "stream",
     "text": [
      "100%|█████████████████████████████████████████████████████████████████████████████████| 771/771 [00:12<00:00, 61.70it/s]\n"
     ]
    },
    {
     "name": "stdout",
     "output_type": "stream",
     "text": [
      "=============\n",
      "33 ) Aspect Test ...\n"
     ]
    },
    {
     "name": "stderr",
     "output_type": "stream",
     "text": [
      "100%|█████████████████████████████████████████████████████████████████████████████████| 771/771 [00:12<00:00, 61.71it/s]\n"
     ]
    },
    {
     "name": "stdout",
     "output_type": "stream",
     "text": [
      "0 th Test.....\n",
      "Accuracy:  0.993514915693904\n",
      "Precision: 0.9842995169082126\n",
      "Recall: 0.9914841849148418\n",
      "F1-score: 0.9878787878787878\n",
      "1 th Test.....\n",
      "Accuracy:  0.9961089494163424\n",
      "Precision: 0.9560975609756097\n",
      "Recall: 0.9849246231155779\n",
      "F1-score: 0.9702970297029703\n",
      "2 th Test.....\n",
      "Accuracy:  0.9575226977950714\n",
      "Precision: 0.8753993610223643\n",
      "Recall: 0.9118136439267887\n",
      "F1-score: 0.8932355338223308\n",
      "3 th Test.....\n",
      "Accuracy:  0.9909208819714657\n",
      "Precision: 0.6792452830188679\n",
      "Recall: 0.7659574468085106\n",
      "F1-score: 0.72\n",
      "4 th Test.....\n",
      "Accuracy:  0.9844357976653697\n",
      "Precision: 0.9556451612903226\n",
      "Recall: 0.948\n",
      "F1-score: 0.9518072289156627\n",
      "5 th Test.....\n",
      "Accuracy:  0.9977302204928664\n",
      "Precision: 0.9817073170731707\n",
      "Recall: 0.9757575757575757\n",
      "F1-score: 0.9787234042553191\n",
      "6 th Test.....\n",
      "Accuracy:  0.993514915693904\n",
      "Precision: 0.9313725490196079\n",
      "Recall: 0.8796296296296297\n",
      "F1-score: 0.9047619047619048\n",
      "7 th Test.....\n",
      "Accuracy:  0.9905966277561609\n",
      "Precision: 0.9577735124760077\n",
      "Recall: 0.9861660079051383\n",
      "F1-score: 0.9717624148003895\n",
      "8 th Test.....\n",
      "Accuracy:  0.9974059662775616\n",
      "Precision: 1.0\n",
      "Recall: 0.7419354838709677\n",
      "F1-score: 0.8518518518518519\n",
      "9 th Test.....\n",
      "Accuracy:  0.9993514915693904\n",
      "Precision: 0.975\n",
      "Recall: 1.0\n",
      "F1-score: 0.9873417721518987\n",
      "10 th Test.....\n",
      "Accuracy:  0.9931906614785992\n",
      "Precision: 0.7777777777777778\n",
      "Recall: 0.8235294117647058\n",
      "F1-score: 0.7999999999999999\n",
      "11 th Test.....\n",
      "Accuracy:  0.9970817120622568\n",
      "Precision: 0.9495798319327731\n",
      "Recall: 0.9741379310344828\n",
      "F1-score: 0.9617021276595743\n",
      "12 th Test.....\n",
      "Accuracy:  0.9880025940337225\n",
      "Precision: 0.9514563106796117\n",
      "Recall: 0.930379746835443\n",
      "F1-score: 0.9407999999999999\n",
      "13 th Test.....\n",
      "Accuracy:  0.9961089494163424\n",
      "Precision: 0.9310344827586207\n",
      "Recall: 0.9854014598540146\n",
      "F1-score: 0.9574468085106382\n",
      "14 th Test.....\n",
      "Accuracy:  0.982166018158236\n",
      "Precision: 0.8\n",
      "Recall: 0.8169014084507042\n",
      "F1-score: 0.8083623693379791\n",
      "15 th Test.....\n",
      "Accuracy:  0.9857328145265889\n",
      "Precision: 0.9437340153452686\n",
      "Recall: 0.9437340153452686\n",
      "F1-score: 0.9437340153452686\n",
      "16 th Test.....\n",
      "Accuracy:  0.9892996108949417\n",
      "Precision: 0.85\n",
      "Recall: 0.9379310344827586\n",
      "F1-score: 0.8918032786885246\n",
      "17 th Test.....\n",
      "Accuracy:  0.9925421530479897\n",
      "Precision: 0.96\n",
      "Recall: 0.9739130434782609\n",
      "F1-score: 0.9669064748201438\n",
      "18 th Test.....\n",
      "Accuracy:  0.9993514915693904\n",
      "Precision: 0.9824561403508771\n",
      "Recall: 1.0\n",
      "F1-score: 0.9911504424778761\n",
      "19 th Test.....\n",
      "Accuracy:  0.995136186770428\n",
      "Precision: 0.6666666666666666\n",
      "Recall: 0.8461538461538461\n",
      "F1-score: 0.7457627118644068\n",
      "20 th Test.....\n",
      "Accuracy:  0.9922178988326849\n",
      "Precision: 0.66\n",
      "Recall: 0.825\n",
      "F1-score: 0.7333333333333334\n",
      "21 th Test.....\n",
      "Accuracy:  0.9876783398184177\n",
      "Precision: 0.9354005167958657\n",
      "Recall: 0.9653333333333334\n",
      "F1-score: 0.9501312335958005\n",
      "22 th Test.....\n",
      "Accuracy:  0.98378728923476\n",
      "Precision: 0.9058823529411765\n",
      "Recall: 0.8191489361702128\n",
      "F1-score: 0.8603351955307263\n",
      "23 th Test.....\n",
      "Accuracy:  0.995136186770428\n",
      "Precision: 0.9715639810426541\n",
      "Recall: 0.9579439252336449\n",
      "F1-score: 0.9647058823529412\n",
      "24 th Test.....\n",
      "Accuracy:  0.9896238651102465\n",
      "Precision: 0.9273504273504274\n",
      "Recall: 0.9353448275862069\n",
      "F1-score: 0.9313304721030042\n",
      "25 th Test.....\n",
      "Accuracy:  0.99189364461738\n",
      "Precision: 0.9591836734693877\n",
      "Recall: 0.94\n",
      "F1-score: 0.9494949494949495\n",
      "26 th Test.....\n",
      "Accuracy:  0.9928664072632944\n",
      "Precision: 0.7719298245614035\n",
      "Recall: 0.8301886792452831\n",
      "F1-score: 0.8\n",
      "27 th Test.....\n",
      "Accuracy:  0.9867055771725033\n",
      "Precision: 0.9157509157509157\n",
      "Recall: 0.9328358208955224\n",
      "F1-score: 0.9242144177449169\n",
      "28 th Test.....\n",
      "Accuracy:  0.954928664072633\n",
      "Precision: 0.88\n",
      "Recall: 0.8957654723127035\n",
      "F1-score: 0.8878127522195319\n",
      "29 th Test.....\n",
      "Accuracy:  0.9961089494163424\n",
      "Precision: 0.96\n",
      "Recall: 0.96\n",
      "F1-score: 0.96\n",
      "30 th Test.....\n",
      "Accuracy:  0.9957846952010376\n",
      "Precision: 0.8767123287671232\n",
      "Recall: 0.9411764705882353\n",
      "F1-score: 0.9078014184397163\n",
      "31 th Test.....\n",
      "Accuracy:  0.9948119325551232\n",
      "Precision: 0.9933719966859983\n",
      "Recall: 0.9933719966859983\n",
      "F1-score: 0.9933719966859983\n",
      "32 th Test.....\n",
      "Accuracy:  0.9828145265888456\n",
      "Precision: 0.8571428571428571\n",
      "Recall: 0.8866995073891626\n",
      "F1-score: 0.8716707021791767\n",
      "=============\n",
      "Sentiment Test ...\n"
     ]
    },
    {
     "name": "stderr",
     "output_type": "stream",
     "text": [
      "100%|███████████████████████████████████████████████████████████████████████████████| 2175/2175 [00:35<00:00, 61.54it/s]\n"
     ]
    },
    {
     "name": "stdout",
     "output_type": "stream",
     "text": [
      "0 th Test.....\n",
      "Accuracy:  0.9067816091954023\n",
      "Precision: 0.9074295365421432\n",
      "Recall: 0.9067816091954023\n",
      "F1-score: 0.9064849023515327\n",
      "================================================\n",
      "=================메이크업_뷰티소품====================\n",
      "=============\n",
      "1 ) Aspect Test ...\n"
     ]
    },
    {
     "name": "stderr",
     "output_type": "stream",
     "text": [
      "100%|█████████████████████████████████████████████████████████████████████████████████| 675/675 [00:10<00:00, 61.64it/s]\n"
     ]
    },
    {
     "name": "stdout",
     "output_type": "stream",
     "text": [
      "=============\n",
      "2 ) Aspect Test ...\n"
     ]
    },
    {
     "name": "stderr",
     "output_type": "stream",
     "text": [
      "100%|█████████████████████████████████████████████████████████████████████████████████| 675/675 [00:10<00:00, 62.02it/s]\n"
     ]
    },
    {
     "name": "stdout",
     "output_type": "stream",
     "text": [
      "=============\n",
      "3 ) Aspect Test ...\n"
     ]
    },
    {
     "name": "stderr",
     "output_type": "stream",
     "text": [
      "100%|█████████████████████████████████████████████████████████████████████████████████| 675/675 [00:10<00:00, 61.88it/s]\n"
     ]
    },
    {
     "name": "stdout",
     "output_type": "stream",
     "text": [
      "=============\n",
      "4 ) Aspect Test ...\n"
     ]
    },
    {
     "name": "stderr",
     "output_type": "stream",
     "text": [
      "100%|█████████████████████████████████████████████████████████████████████████████████| 675/675 [00:10<00:00, 61.80it/s]\n"
     ]
    },
    {
     "name": "stdout",
     "output_type": "stream",
     "text": [
      "=============\n",
      "5 ) Aspect Test ...\n"
     ]
    },
    {
     "name": "stderr",
     "output_type": "stream",
     "text": [
      "100%|█████████████████████████████████████████████████████████████████████████████████| 675/675 [00:10<00:00, 61.76it/s]\n"
     ]
    },
    {
     "name": "stdout",
     "output_type": "stream",
     "text": [
      "=============\n",
      "6 ) Aspect Test ...\n"
     ]
    },
    {
     "name": "stderr",
     "output_type": "stream",
     "text": [
      "100%|█████████████████████████████████████████████████████████████████████████████████| 675/675 [00:10<00:00, 61.71it/s]\n"
     ]
    },
    {
     "name": "stdout",
     "output_type": "stream",
     "text": [
      "=============\n",
      "7 ) Aspect Test ...\n"
     ]
    },
    {
     "name": "stderr",
     "output_type": "stream",
     "text": [
      "100%|█████████████████████████████████████████████████████████████████████████████████| 675/675 [00:10<00:00, 61.69it/s]\n"
     ]
    },
    {
     "name": "stdout",
     "output_type": "stream",
     "text": [
      "=============\n",
      "8 ) Aspect Test ...\n"
     ]
    },
    {
     "name": "stderr",
     "output_type": "stream",
     "text": [
      "100%|█████████████████████████████████████████████████████████████████████████████████| 675/675 [00:10<00:00, 61.69it/s]\n"
     ]
    },
    {
     "name": "stdout",
     "output_type": "stream",
     "text": [
      "=============\n",
      "9 ) Aspect Test ...\n"
     ]
    },
    {
     "name": "stderr",
     "output_type": "stream",
     "text": [
      "100%|█████████████████████████████████████████████████████████████████████████████████| 675/675 [00:10<00:00, 61.65it/s]\n"
     ]
    },
    {
     "name": "stdout",
     "output_type": "stream",
     "text": [
      "=============\n",
      "10 ) Aspect Test ...\n"
     ]
    },
    {
     "name": "stderr",
     "output_type": "stream",
     "text": [
      "100%|█████████████████████████████████████████████████████████████████████████████████| 675/675 [00:10<00:00, 61.65it/s]\n"
     ]
    },
    {
     "name": "stdout",
     "output_type": "stream",
     "text": [
      "=============\n",
      "11 ) Aspect Test ...\n"
     ]
    },
    {
     "name": "stderr",
     "output_type": "stream",
     "text": [
      "100%|█████████████████████████████████████████████████████████████████████████████████| 675/675 [00:10<00:00, 61.67it/s]\n"
     ]
    },
    {
     "name": "stdout",
     "output_type": "stream",
     "text": [
      "=============\n",
      "12 ) Aspect Test ...\n"
     ]
    },
    {
     "name": "stderr",
     "output_type": "stream",
     "text": [
      "100%|█████████████████████████████████████████████████████████████████████████████████| 675/675 [00:10<00:00, 61.63it/s]\n"
     ]
    },
    {
     "name": "stdout",
     "output_type": "stream",
     "text": [
      "=============\n",
      "13 ) Aspect Test ...\n"
     ]
    },
    {
     "name": "stderr",
     "output_type": "stream",
     "text": [
      "100%|█████████████████████████████████████████████████████████████████████████████████| 675/675 [00:10<00:00, 61.63it/s]\n"
     ]
    },
    {
     "name": "stdout",
     "output_type": "stream",
     "text": [
      "=============\n",
      "14 ) Aspect Test ...\n"
     ]
    },
    {
     "name": "stderr",
     "output_type": "stream",
     "text": [
      "100%|█████████████████████████████████████████████████████████████████████████████████| 675/675 [00:10<00:00, 61.63it/s]\n"
     ]
    },
    {
     "name": "stdout",
     "output_type": "stream",
     "text": [
      "=============\n",
      "15 ) Aspect Test ...\n"
     ]
    },
    {
     "name": "stderr",
     "output_type": "stream",
     "text": [
      "100%|█████████████████████████████████████████████████████████████████████████████████| 675/675 [00:10<00:00, 61.61it/s]\n"
     ]
    },
    {
     "name": "stdout",
     "output_type": "stream",
     "text": [
      "=============\n",
      "16 ) Aspect Test ...\n"
     ]
    },
    {
     "name": "stderr",
     "output_type": "stream",
     "text": [
      "100%|█████████████████████████████████████████████████████████████████████████████████| 675/675 [00:10<00:00, 61.61it/s]\n"
     ]
    },
    {
     "name": "stdout",
     "output_type": "stream",
     "text": [
      "=============\n",
      "17 ) Aspect Test ...\n"
     ]
    },
    {
     "name": "stderr",
     "output_type": "stream",
     "text": [
      "100%|█████████████████████████████████████████████████████████████████████████████████| 675/675 [00:10<00:00, 61.63it/s]\n"
     ]
    },
    {
     "name": "stdout",
     "output_type": "stream",
     "text": [
      "=============\n",
      "18 ) Aspect Test ...\n"
     ]
    },
    {
     "name": "stderr",
     "output_type": "stream",
     "text": [
      "100%|█████████████████████████████████████████████████████████████████████████████████| 675/675 [00:10<00:00, 61.62it/s]\n"
     ]
    },
    {
     "name": "stdout",
     "output_type": "stream",
     "text": [
      "=============\n",
      "19 ) Aspect Test ...\n"
     ]
    },
    {
     "name": "stderr",
     "output_type": "stream",
     "text": [
      "100%|█████████████████████████████████████████████████████████████████████████████████| 675/675 [00:10<00:00, 61.60it/s]\n"
     ]
    },
    {
     "name": "stdout",
     "output_type": "stream",
     "text": [
      "=============\n",
      "20 ) Aspect Test ...\n"
     ]
    },
    {
     "name": "stderr",
     "output_type": "stream",
     "text": [
      "100%|█████████████████████████████████████████████████████████████████████████████████| 675/675 [00:10<00:00, 61.61it/s]\n"
     ]
    },
    {
     "name": "stdout",
     "output_type": "stream",
     "text": [
      "=============\n",
      "21 ) Aspect Test ...\n"
     ]
    },
    {
     "name": "stderr",
     "output_type": "stream",
     "text": [
      "100%|█████████████████████████████████████████████████████████████████████████████████| 675/675 [00:10<00:00, 61.61it/s]\n"
     ]
    },
    {
     "name": "stdout",
     "output_type": "stream",
     "text": [
      "=============\n",
      "22 ) Aspect Test ...\n"
     ]
    },
    {
     "name": "stderr",
     "output_type": "stream",
     "text": [
      "100%|█████████████████████████████████████████████████████████████████████████████████| 675/675 [00:10<00:00, 61.64it/s]\n"
     ]
    },
    {
     "name": "stdout",
     "output_type": "stream",
     "text": [
      "=============\n",
      "23 ) Aspect Test ...\n"
     ]
    },
    {
     "name": "stderr",
     "output_type": "stream",
     "text": [
      "100%|█████████████████████████████████████████████████████████████████████████████████| 675/675 [00:10<00:00, 61.62it/s]\n"
     ]
    },
    {
     "name": "stdout",
     "output_type": "stream",
     "text": [
      "=============\n",
      "24 ) Aspect Test ...\n"
     ]
    },
    {
     "name": "stderr",
     "output_type": "stream",
     "text": [
      "100%|█████████████████████████████████████████████████████████████████████████████████| 675/675 [00:10<00:00, 61.60it/s]\n"
     ]
    },
    {
     "name": "stdout",
     "output_type": "stream",
     "text": [
      "=============\n",
      "25 ) Aspect Test ...\n"
     ]
    },
    {
     "name": "stderr",
     "output_type": "stream",
     "text": [
      "100%|█████████████████████████████████████████████████████████████████████████████████| 675/675 [00:10<00:00, 61.59it/s]\n"
     ]
    },
    {
     "name": "stdout",
     "output_type": "stream",
     "text": [
      "0 th Test.....\n",
      "Accuracy:  0.9840563589173156\n",
      "Precision: 0.9447674418604651\n",
      "Recall: 0.9923664122137404\n",
      "F1-score: 0.967982129560685\n",
      "1 th Test.....\n",
      "Accuracy:  0.9447534297367445\n",
      "Precision: 0.8355387523629489\n",
      "Recall: 0.876984126984127\n",
      "F1-score: 0.8557599225556631\n",
      "2 th Test.....\n",
      "Accuracy:  0.9985168705969596\n",
      "Precision: 0.9724770642201835\n",
      "Recall: 0.9906542056074766\n",
      "F1-score: 0.9814814814814815\n",
      "3 th Test.....\n",
      "Accuracy:  0.9907304412309974\n",
      "Precision: 0.9369369369369369\n",
      "Recall: 0.9873417721518988\n",
      "F1-score: 0.9614791987673343\n",
      "4 th Test.....\n",
      "Accuracy:  0.9833147942157954\n",
      "Precision: 0.955249569707401\n",
      "Recall: 0.9668989547038328\n",
      "F1-score: 0.961038961038961\n",
      "5 th Test.....\n",
      "Accuracy:  0.9888765294771968\n",
      "Precision: 0.959079283887468\n",
      "Recall: 0.9640102827763496\n",
      "F1-score: 0.9615384615384615\n",
      "6 th Test.....\n",
      "Accuracy:  0.9810901001112347\n",
      "Precision: 0.9632892804698973\n",
      "Recall: 0.9618768328445748\n",
      "F1-score: 0.9625825385179752\n",
      "7 th Test.....\n",
      "Accuracy:  0.9996292176492398\n",
      "Precision: 0.9827586206896551\n",
      "Recall: 1.0\n",
      "F1-score: 0.9913043478260869\n",
      "8 th Test.....\n",
      "Accuracy:  0.9885057471264368\n",
      "Precision: 0.8982035928143712\n",
      "Recall: 0.9146341463414634\n",
      "F1-score: 0.9063444108761329\n",
      "9 th Test.....\n",
      "Accuracy:  0.9673711531331108\n",
      "Precision: 0.9229508196721311\n",
      "Recall: 0.9321192052980133\n",
      "F1-score: 0.9275123558484349\n",
      "10 th Test.....\n",
      "Accuracy:  0.9974045235446792\n",
      "Precision: 0.8653846153846154\n",
      "Recall: 1.0\n",
      "F1-score: 0.9278350515463918\n",
      "11 th Test.....\n",
      "Accuracy:  0.9870226177233964\n",
      "Precision: 0.9163179916317992\n",
      "Recall: 0.9358974358974359\n",
      "F1-score: 0.9260042283298097\n",
      "12 th Test.....\n",
      "Accuracy:  0.9888765294771968\n",
      "Precision: 0.9140271493212669\n",
      "Recall: 0.9483568075117371\n",
      "F1-score: 0.9308755760368664\n",
      "13 th Test.....\n",
      "Accuracy:  0.9974045235446792\n",
      "Precision: 0.9571428571428572\n",
      "Recall: 0.9436619718309859\n",
      "F1-score: 0.9503546099290779\n",
      "14 th Test.....\n",
      "Accuracy:  0.9781238413051538\n",
      "Precision: 0.9503722084367245\n",
      "Recall: 0.9075829383886256\n",
      "F1-score: 0.9284848484848485\n",
      "15 th Test.....\n",
      "Accuracy:  0.9885057471264368\n",
      "Precision: 0.8068181818181818\n",
      "Recall: 0.8352941176470589\n",
      "F1-score: 0.8208092485549133\n",
      "16 th Test.....\n",
      "Accuracy:  0.9796069707081942\n",
      "Precision: 0.8849840255591054\n",
      "Recall: 0.9358108108108109\n",
      "F1-score: 0.909688013136289\n",
      "17 th Test.....\n",
      "Accuracy:  0.996292176492399\n",
      "Precision: 0.953757225433526\n",
      "Recall: 0.9880239520958084\n",
      "F1-score: 0.9705882352941175\n",
      "18 th Test.....\n",
      "Accuracy:  0.9740452354467928\n",
      "Precision: 0.9484029484029484\n",
      "Recall: 0.965\n",
      "F1-score: 0.9566294919454771\n",
      "19 th Test.....\n",
      "Accuracy:  0.9870226177233964\n",
      "Precision: 0.9473684210526315\n",
      "Recall: 0.9811320754716981\n",
      "F1-score: 0.9639546858908341\n",
      "20 th Test.....\n",
      "Accuracy:  0.9517982944011865\n",
      "Precision: 0.8920086393088553\n",
      "Recall: 0.8377281947261663\n",
      "F1-score: 0.8640167364016736\n",
      "21 th Test.....\n",
      "Accuracy:  0.9918427882832778\n",
      "Precision: 0.9571428571428572\n",
      "Recall: 0.8933333333333333\n",
      "F1-score: 0.9241379310344828\n",
      "22 th Test.....\n",
      "Accuracy:  0.9922135706340378\n",
      "Precision: 0.8392857142857143\n",
      "Recall: 0.9690721649484536\n",
      "F1-score: 0.8995215311004785\n",
      "23 th Test.....\n",
      "Accuracy:  0.9911012235817576\n",
      "Precision: 0.9746376811594203\n",
      "Recall: 0.9962962962962963\n",
      "F1-score: 0.9853479853479854\n",
      "24 th Test.....\n",
      "Accuracy:  0.9810901001112347\n",
      "Precision: 0.9080459770114943\n",
      "Recall: 0.9432835820895522\n",
      "F1-score: 0.9253294289897511\n",
      "=============\n",
      "Sentiment Test ...\n"
     ]
    },
    {
     "name": "stderr",
     "output_type": "stream",
     "text": [
      "100%|███████████████████████████████████████████████████████████████████████████████| 2187/2187 [00:35<00:00, 61.29it/s]\n"
     ]
    },
    {
     "name": "stdout",
     "output_type": "stream",
     "text": [
      "0 th Test.....\n",
      "Accuracy:  0.8836172401966389\n",
      "Precision: 0.8774593820294811\n",
      "Recall: 0.8836172401966389\n",
      "F1-score: 0.8787968440007968\n",
      "================================================\n",
      "=================남성화장품====================\n",
      "=============\n",
      "1 ) Aspect Test ...\n"
     ]
    },
    {
     "name": "stderr",
     "output_type": "stream",
     "text": [
      "100%|█████████████████████████████████████████████████████████████████████████████████| 238/238 [00:03<00:00, 62.24it/s]\n"
     ]
    },
    {
     "name": "stdout",
     "output_type": "stream",
     "text": [
      "=============\n",
      "2 ) Aspect Test ...\n"
     ]
    },
    {
     "name": "stderr",
     "output_type": "stream",
     "text": [
      "100%|█████████████████████████████████████████████████████████████████████████████████| 238/238 [00:03<00:00, 62.14it/s]\n"
     ]
    },
    {
     "name": "stdout",
     "output_type": "stream",
     "text": [
      "=============\n",
      "3 ) Aspect Test ...\n"
     ]
    },
    {
     "name": "stderr",
     "output_type": "stream",
     "text": [
      "100%|█████████████████████████████████████████████████████████████████████████████████| 238/238 [00:03<00:00, 62.09it/s]\n"
     ]
    },
    {
     "name": "stdout",
     "output_type": "stream",
     "text": [
      "=============\n",
      "4 ) Aspect Test ...\n"
     ]
    },
    {
     "name": "stderr",
     "output_type": "stream",
     "text": [
      "100%|█████████████████████████████████████████████████████████████████████████████████| 238/238 [00:03<00:00, 62.08it/s]\n"
     ]
    },
    {
     "name": "stdout",
     "output_type": "stream",
     "text": [
      "=============\n",
      "5 ) Aspect Test ...\n"
     ]
    },
    {
     "name": "stderr",
     "output_type": "stream",
     "text": [
      "100%|█████████████████████████████████████████████████████████████████████████████████| 238/238 [00:03<00:00, 62.03it/s]\n"
     ]
    },
    {
     "name": "stdout",
     "output_type": "stream",
     "text": [
      "=============\n",
      "6 ) Aspect Test ...\n"
     ]
    },
    {
     "name": "stderr",
     "output_type": "stream",
     "text": [
      "100%|█████████████████████████████████████████████████████████████████████████████████| 238/238 [00:03<00:00, 62.01it/s]\n"
     ]
    },
    {
     "name": "stdout",
     "output_type": "stream",
     "text": [
      "=============\n",
      "7 ) Aspect Test ...\n"
     ]
    },
    {
     "name": "stderr",
     "output_type": "stream",
     "text": [
      "100%|█████████████████████████████████████████████████████████████████████████████████| 238/238 [00:03<00:00, 61.96it/s]\n"
     ]
    },
    {
     "name": "stdout",
     "output_type": "stream",
     "text": [
      "=============\n",
      "8 ) Aspect Test ...\n"
     ]
    },
    {
     "name": "stderr",
     "output_type": "stream",
     "text": [
      "100%|█████████████████████████████████████████████████████████████████████████████████| 238/238 [00:03<00:00, 61.92it/s]\n"
     ]
    },
    {
     "name": "stdout",
     "output_type": "stream",
     "text": [
      "=============\n",
      "9 ) Aspect Test ...\n"
     ]
    },
    {
     "name": "stderr",
     "output_type": "stream",
     "text": [
      "100%|█████████████████████████████████████████████████████████████████████████████████| 238/238 [00:03<00:00, 61.91it/s]\n"
     ]
    },
    {
     "name": "stdout",
     "output_type": "stream",
     "text": [
      "=============\n",
      "10 ) Aspect Test ...\n"
     ]
    },
    {
     "name": "stderr",
     "output_type": "stream",
     "text": [
      "100%|█████████████████████████████████████████████████████████████████████████████████| 238/238 [00:03<00:00, 61.92it/s]\n"
     ]
    },
    {
     "name": "stdout",
     "output_type": "stream",
     "text": [
      "=============\n",
      "11 ) Aspect Test ...\n"
     ]
    },
    {
     "name": "stderr",
     "output_type": "stream",
     "text": [
      "100%|█████████████████████████████████████████████████████████████████████████████████| 238/238 [00:03<00:00, 61.89it/s]\n"
     ]
    },
    {
     "name": "stdout",
     "output_type": "stream",
     "text": [
      "=============\n",
      "12 ) Aspect Test ...\n"
     ]
    },
    {
     "name": "stderr",
     "output_type": "stream",
     "text": [
      "100%|█████████████████████████████████████████████████████████████████████████████████| 238/238 [00:03<00:00, 61.84it/s]\n"
     ]
    },
    {
     "name": "stdout",
     "output_type": "stream",
     "text": [
      "=============\n",
      "13 ) Aspect Test ...\n"
     ]
    },
    {
     "name": "stderr",
     "output_type": "stream",
     "text": [
      "100%|█████████████████████████████████████████████████████████████████████████████████| 238/238 [00:03<00:00, 61.83it/s]\n"
     ]
    },
    {
     "name": "stdout",
     "output_type": "stream",
     "text": [
      "=============\n",
      "14 ) Aspect Test ...\n"
     ]
    },
    {
     "name": "stderr",
     "output_type": "stream",
     "text": [
      "100%|█████████████████████████████████████████████████████████████████████████████████| 238/238 [00:03<00:00, 61.80it/s]\n"
     ]
    },
    {
     "name": "stdout",
     "output_type": "stream",
     "text": [
      "=============\n",
      "15 ) Aspect Test ...\n"
     ]
    },
    {
     "name": "stderr",
     "output_type": "stream",
     "text": [
      "100%|█████████████████████████████████████████████████████████████████████████████████| 238/238 [00:03<00:00, 61.81it/s]\n"
     ]
    },
    {
     "name": "stdout",
     "output_type": "stream",
     "text": [
      "=============\n",
      "16 ) Aspect Test ...\n"
     ]
    },
    {
     "name": "stderr",
     "output_type": "stream",
     "text": [
      "100%|█████████████████████████████████████████████████████████████████████████████████| 238/238 [00:03<00:00, 61.78it/s]\n"
     ]
    },
    {
     "name": "stdout",
     "output_type": "stream",
     "text": [
      "=============\n",
      "17 ) Aspect Test ...\n"
     ]
    },
    {
     "name": "stderr",
     "output_type": "stream",
     "text": [
      "100%|█████████████████████████████████████████████████████████████████████████████████| 238/238 [00:03<00:00, 61.83it/s]\n"
     ]
    },
    {
     "name": "stdout",
     "output_type": "stream",
     "text": [
      "=============\n",
      "18 ) Aspect Test ...\n"
     ]
    },
    {
     "name": "stderr",
     "output_type": "stream",
     "text": [
      "100%|█████████████████████████████████████████████████████████████████████████████████| 238/238 [00:03<00:00, 61.80it/s]\n"
     ]
    },
    {
     "name": "stdout",
     "output_type": "stream",
     "text": [
      "=============\n",
      "19 ) Aspect Test ...\n"
     ]
    },
    {
     "name": "stderr",
     "output_type": "stream",
     "text": [
      "100%|█████████████████████████████████████████████████████████████████████████████████| 238/238 [00:03<00:00, 61.81it/s]\n"
     ]
    },
    {
     "name": "stdout",
     "output_type": "stream",
     "text": [
      "=============\n",
      "20 ) Aspect Test ...\n"
     ]
    },
    {
     "name": "stderr",
     "output_type": "stream",
     "text": [
      "100%|█████████████████████████████████████████████████████████████████████████████████| 238/238 [00:03<00:00, 61.78it/s]\n"
     ]
    },
    {
     "name": "stdout",
     "output_type": "stream",
     "text": [
      "0 th Test.....\n",
      "Accuracy:  0.9863157894736843\n",
      "Precision: 0.9894459102902374\n",
      "Recall: 0.9765625\n",
      "F1-score: 0.9829619921363041\n",
      "1 th Test.....\n",
      "Accuracy:  0.9452631578947368\n",
      "Precision: 0.8533834586466166\n",
      "Recall: 0.9458333333333333\n",
      "F1-score: 0.8972332015810276\n",
      "2 th Test.....\n",
      "Accuracy:  0.9989473684210526\n",
      "Precision: 0.9615384615384616\n",
      "Recall: 1.0\n",
      "F1-score: 0.9803921568627451\n",
      "3 th Test.....\n",
      "Accuracy:  0.9936842105263158\n",
      "Precision: 0.9647058823529412\n",
      "Recall: 0.9647058823529412\n",
      "F1-score: 0.9647058823529412\n",
      "4 th Test.....\n",
      "Accuracy:  0.9789473684210527\n",
      "Precision: 0.9532374100719424\n",
      "Recall: 0.9742647058823529\n",
      "F1-score: 0.9636363636363636\n",
      "5 th Test.....\n",
      "Accuracy:  0.9989473684210526\n",
      "Precision: 0.9787234042553191\n",
      "Recall: 1.0\n",
      "F1-score: 0.989247311827957\n",
      "6 th Test.....\n",
      "Accuracy:  0.9989473684210526\n",
      "Precision: 0.972972972972973\n",
      "Recall: 1.0\n",
      "F1-score: 0.9863013698630138\n",
      "7 th Test.....\n",
      "Accuracy:  0.9894736842105263\n",
      "Precision: 0.9270833333333334\n",
      "Recall: 0.967391304347826\n",
      "F1-score: 0.9468085106382979\n",
      "8 th Test.....\n",
      "Accuracy:  0.9905263157894737\n",
      "Precision: 0.9318181818181818\n",
      "Recall: 1.0\n",
      "F1-score: 0.9647058823529412\n",
      "9 th Test.....\n",
      "Accuracy:  0.9968421052631579\n",
      "Precision: 0.9538461538461539\n",
      "Recall: 1.0\n",
      "F1-score: 0.9763779527559054\n",
      "10 th Test.....\n",
      "Accuracy:  0.9821052631578947\n",
      "Precision: 0.7755102040816326\n",
      "Recall: 0.8636363636363636\n",
      "F1-score: 0.8172043010752688\n",
      "11 th Test.....\n",
      "Accuracy:  0.9673684210526315\n",
      "Precision: 0.9047619047619048\n",
      "Recall: 0.8571428571428571\n",
      "F1-score: 0.8803088803088803\n",
      "12 th Test.....\n",
      "Accuracy:  0.968421052631579\n",
      "Precision: 0.9225806451612903\n",
      "Recall: 0.8881987577639752\n",
      "F1-score: 0.9050632911392404\n",
      "13 th Test.....\n",
      "Accuracy:  0.9905263157894737\n",
      "Precision: 0.9611650485436893\n",
      "Recall: 0.9519230769230769\n",
      "F1-score: 0.9565217391304348\n",
      "14 th Test.....\n",
      "Accuracy:  0.9894736842105263\n",
      "Precision: 0.967948717948718\n",
      "Recall: 0.967948717948718\n",
      "F1-score: 0.9679487179487178\n",
      "15 th Test.....\n",
      "Accuracy:  0.9442105263157895\n",
      "Precision: 0.8888888888888888\n",
      "Recall: 0.9185185185185185\n",
      "F1-score: 0.9034608378870674\n",
      "16 th Test.....\n",
      "Accuracy:  0.9905263157894737\n",
      "Precision: 0.9682539682539683\n",
      "Recall: 0.8970588235294118\n",
      "F1-score: 0.9312977099236641\n",
      "17 th Test.....\n",
      "Accuracy:  0.9926315789473684\n",
      "Precision: 0.9354838709677419\n",
      "Recall: 0.9508196721311475\n",
      "F1-score: 0.943089430894309\n",
      "18 th Test.....\n",
      "Accuracy:  0.988421052631579\n",
      "Precision: 0.9802867383512545\n",
      "Recall: 1.0\n",
      "F1-score: 0.9900452488687783\n",
      "19 th Test.....\n",
      "Accuracy:  0.9768421052631578\n",
      "Precision: 0.9281767955801105\n",
      "Recall: 0.9491525423728814\n",
      "F1-score: 0.9385474860335196\n",
      "=============\n",
      "Sentiment Test ...\n"
     ]
    },
    {
     "name": "stderr",
     "output_type": "stream",
     "text": [
      "100%|█████████████████████████████████████████████████████████████████████████████████| 772/772 [00:12<00:00, 61.37it/s]\n"
     ]
    },
    {
     "name": "stdout",
     "output_type": "stream",
     "text": [
      "0 th Test.....\n",
      "Accuracy:  0.8959818535320804\n",
      "Precision: 0.8948891012842947\n",
      "Recall: 0.8959818535320804\n",
      "F1-score: 0.8944741476599541\n",
      "================================================\n"
     ]
    }
   ],
   "source": [
    "if __name__ == '__main__':\n",
    "    device = torch.device('cuda' if torch.cuda.is_available() else 'cpu')\n",
    "    check_exists_cuda(device)\n",
    "\n",
    "    set_seed()\n",
    "    main_categories = [\n",
    "        '스킨케어',\n",
    "        '헤어_바디케어',\n",
    "        '메이크업_뷰티소품',\n",
    "        '남성화장품'\n",
    "    ]\n",
    "\n",
    "    kiwi = Kiwi()\n",
    "\n",
    "    for main_category in main_categories:\n",
    "        print(f\"================={main_category}====================\")\n",
    "        trains, validations, tests, category_with_original_aspects = prepare_data_and_categories(main_category)\n",
    "\n",
    "        tokenizer = AutoTokenizer.from_pretrained(MODEL_NAME)\n",
    "\n",
    "        test_ASP_datas, test_ASP_labels, test_SEN_data, test_SEN_labels = define_datasets(tests, main_category, category_with_original_aspects)\n",
    "\n",
    "        # 1차원 변환, aspect는 리스트 반환하고 sentiment는 단일 반환\n",
    "        test_aspect_klue_sets = reshape_to_1d('aspect', test_ASP_datas, test_ASP_labels, tokenizer)\n",
    "        test_sentiment_klue_sets = reshape_to_1d('sentiment', test_SEN_data, test_SEN_labels, tokenizer)\n",
    "\n",
    "        # Aspect model test\n",
    "        asp_infers, asp_infer_labels = aspect_evaluate_tests(device, main_category, test_aspect_klue_sets)\n",
    "\n",
    "        # Aspect test scores 출력\n",
    "        show_test_evaluation('aspect', asp_infers, asp_infer_labels, category_with_original_aspects)\n",
    "\n",
    "        # Sentiment model test\n",
    "        sen_infers, sen_infer_labels = sentiment_evaluate_tests(device, main_category, test_sentiment_klue_sets)\n",
    "\n",
    "        # Sentiment test scores 출력\n",
    "        show_test_evaluation('sentiment', sen_infers, sen_infer_labels)\n",
    "\n",
    "        print(\"================================================\")\n",
    "        \n",
    "        # 테스트 결과 따로 저장\n",
    "        save_asp_prediction_results(main_category, category_with_original_aspects \\\n",
    "                                    , test_ASP_datas, test_ASP_labels, asp_infers)\n",
    "        save_sen_prediction_results(main_category, kiwi \\\n",
    "                                    , test_SEN_data, test_SEN_labels, sen_infers)\n",
    "        "
   ]
  }
 ],
 "metadata": {
  "kernelspec": {
   "display_name": "Python 3 (ipykernel)",
   "language": "python",
   "name": "python3"
  },
  "language_info": {
   "codemirror_mode": {
    "name": "ipython",
    "version": 3
   },
   "file_extension": ".py",
   "mimetype": "text/x-python",
   "name": "python",
   "nbconvert_exporter": "python",
   "pygments_lexer": "ipython3",
   "version": "3.8.10"
  }
 },
 "nbformat": 4,
 "nbformat_minor": 5
}
